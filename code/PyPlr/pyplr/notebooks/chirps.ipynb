{
 "cells": [
  {
   "cell_type": "code",
   "execution_count": 1,
   "metadata": {},
   "outputs": [],
   "source": [
    "import sys\n",
    "sys.path.insert(0, '../../')\n",
    "from time import sleep\n",
    "\n",
    "import numpy as np\n",
    "import pandas as pd\n",
    "import matplotlib.pyplot as plt\n",
    "\n",
    "from pyplr import stlab"
   ]
  },
  {
   "cell_type": "code",
   "execution_count": 2,
   "metadata": {},
   "outputs": [
    {
     "name": "stdout",
     "output_type": "stream",
     "text": [
      "STLAB device setup complete...\n"
     ]
    }
   ],
   "source": [
    "d = stlab.STLAB(username='admin', identity=1, password='83e47941d9e930f6')"
   ]
  },
  {
   "cell_type": "code",
   "execution_count": 20,
   "metadata": {
    "jupyter": {
     "source_hidden": true
    }
   },
   "outputs": [],
   "source": [
    "def interp_spectra(spectra):\n",
    "    '''\n",
    "    This function needs generalising.\n",
    "\n",
    "    Parameters\n",
    "    ----------\n",
    "    spectra : TYPE\n",
    "        DESCRIPTION.\n",
    "\n",
    "    Returns\n",
    "    -------\n",
    "    intp_tbl : TYPE\n",
    "        DESCRIPTION.\n",
    "\n",
    "    '''\n",
    "    #tbl = spectra.unstack(level=0)\n",
    "    #tbl.columns = [val[1] for val in tbl.columns]\n",
    "    \n",
    "    intp_tbl = pd.DataFrame()\n",
    "    for led, df in spectra.groupby(['led']):\n",
    "        intensities = df.index.get_level_values('intensity')\n",
    "        new_intensities = np.linspace(intensities.min(), intensities.max(), 4096)\n",
    "        new_intensities = new_intensities.astype('int')\n",
    "        df.reset_index(inplace=True, drop=True)\n",
    "        #df.columns = range(0, df.shape[1])\n",
    "        df.index = df.index * 63\n",
    "        n = df.reindex(new_intensities).interpolate(method='linear')\n",
    "        n['intensity'] = n.index\n",
    "        n['led'] = led\n",
    "        intp_tbl = intp_tbl.append(n)\n",
    "    intp_tbl.set_index(['led','intensity'], inplace=True)\n",
    "    return intp_tbl"
   ]
  },
  {
   "cell_type": "code",
   "execution_count": 5,
   "metadata": {},
   "outputs": [
    {
     "data": {
      "text/plain": [
       "{0: (0.004238363945272994, 2127),\n",
       " 1: (0.0005316173873932684, 1692),\n",
       " 2: (0.0028045785748886942, 1656),\n",
       " 3: (0.0, 1800),\n",
       " 4: (0.0008152973939665742, 1537),\n",
       " 5: (0.0001710459224302241, 2113),\n",
       " 6: (0.006184807102723511, 695),\n",
       " 7: (0.006900740582779008, 831),\n",
       " 8: (8.106384311723502e-05, 2795),\n",
       " 9: (0.000973117048275185, 1431)}"
      ]
     },
     "execution_count": 5,
     "metadata": {},
     "output_type": "execute_result"
    }
   ],
   "source": [
    "lkp = pd.read_csv('/Users/jtm/Code/cvd_pupillometry/PyPlr/pyplr/data/corrected_oo_lookup_table.csv', index_col=['led','intensity'])\n",
    "LED3_max = 1800 # comfortable maximal melanopsin stim\n",
    "r_matches = {}\n",
    "for led in range(10):\n",
    "    match = stlab.led_radiance_match(3, LED3_max, led, lkp)\n",
    "    r_matches[led] = match\n",
    "\n",
    "r_matches"
   ]
  },
  {
   "cell_type": "code",
   "execution_count": 4,
   "metadata": {},
   "outputs": [],
   "source": [
    "d.set_spectrum_a([0,0,0,2000,0,0,0,0,0,0])"
   ]
  },
  {
   "cell_type": "code",
   "execution_count": 6,
   "metadata": {},
   "outputs": [
    {
     "name": "stdout",
     "output_type": "stream",
     "text": [
      "\"chirp_0.dsf\" saved in the current working directory.\n",
      "\"chirp_1.dsf\" saved in the current working directory.\n",
      "\"chirp_2.dsf\" saved in the current working directory.\n",
      "\"chirp_3.dsf\" saved in the current working directory.\n",
      "\"chirp_4.dsf\" saved in the current working directory.\n",
      "\"chirp_5.dsf\" saved in the current working directory.\n",
      "\"chirp_6.dsf\" saved in the current working directory.\n",
      "\"chirp_7.dsf\" saved in the current working directory.\n",
      "\"chirp_8.dsf\" saved in the current working directory.\n",
      "\"chirp_9.dsf\" saved in the current working directory.\n"
     ]
    }
   ],
   "source": [
    "from scipy.signal import chirp\n",
    "\n",
    "for led in r_matches.keys():\n",
    "\n",
    "    # stimulus params\n",
    "    videoname = 'chirp_{}'.format(led)\n",
    "    Fs = 100\n",
    "    mintensity = 0\n",
    "    maxtensity = r_matches[led][1]\n",
    "\n",
    "    # stimulus params\n",
    "    background  = maxtensity/2\n",
    "    amplitude   = maxtensity/2\n",
    "    duration = 20\n",
    "    n = 2000\n",
    "    t = np.linspace(0, duration, n, endpoint=False)\n",
    "    f0 = 0.01\n",
    "    f1 = 1\n",
    "\n",
    "    # define frequency modulation\n",
    "    chp = chirp(t, f0, duration, f1, method='linear', phi=270)\n",
    "    chp = stlab.modulate_intensity_amplitude(chp, background, amplitude)\n",
    "    #fig, ax = plt.subplots(figsize=(12,4))\n",
    "    #ax.plot(chp)\n",
    "    #ax.set_ylabel(\"Intensity\")\n",
    "    #ax.set_xlabel(\"Time\")\n",
    "\n",
    "    # define amplitude modulation\n",
    "    time  = stlab.get_time_vector(duration)\n",
    "    sm = stlab.sinusoid_modulation(.5, duration, Fs)\n",
    "    ivals = stlab.modulate_intensity_amplitude(sm, background, np.linspace(0,amplitude,duration*Fs))\n",
    "    #fig, ax = plt.subplots(figsize=(12,4))\n",
    "    #ax.plot(ivals)\n",
    "    #ax.set_ylabel(\"Intensity\")\n",
    "    #ax.set_xlabel(\"Time\");\n",
    "\n",
    "    duration=60\n",
    "    time = stlab.get_time_vector(duration)\n",
    "    stim = np.zeros(duration*Fs)\n",
    "\n",
    "    # assemble time course\n",
    "    stim[0:100]     = maxtensity # 1s pulse\n",
    "    stim[800:900]   = background # step\n",
    "    stim[900:2900]  = chp  # chirp\n",
    "    stim[2900:3100] = background\n",
    "    stim[3100:5100] = ivals\n",
    "    stim[5100:5300] = background\n",
    "    stim = stim.astype('int')\n",
    "\n",
    "    # plot\n",
    "    #fig, ax = plt.subplots(figsize=(16,4))\n",
    "    #ax.plot(stim)\n",
    "    #ax.set_ylabel(\"Intensity\")\n",
    "    #ax.set_xlabel(\"Time\")\n",
    "\n",
    "    # make video file\n",
    "    cols = stlab.get_video_cols()\n",
    "    zs = np.zeros(duration*Fs)\n",
    "    zs = zs.astype('int')\n",
    "    data = [zs for x in range(10)]\n",
    "    data[led] = stim\n",
    "\n",
    "    #data = [stim for x in range(10)]\n",
    "    data.insert(0, time)\n",
    "    df = pd.DataFrame(data, cols).T\n",
    "    stlab.make_video_file(df, videoname)"
   ]
  },
  {
   "cell_type": "code",
   "execution_count": 8,
   "metadata": {},
   "outputs": [
    {
     "name": "stdout",
     "output_type": "stream",
     "text": [
      "video file loaded...\n",
      "playing video file...\n",
      "video file loaded...\n",
      "playing video file...\n",
      "video file loaded...\n",
      "playing video file...\n",
      "video file loaded...\n",
      "playing video file...\n",
      "video file loaded...\n",
      "playing video file...\n",
      "video file loaded...\n",
      "playing video file...\n",
      "video file loaded...\n",
      "playing video file...\n",
      "video file loaded...\n",
      "playing video file...\n",
      "video file loaded...\n",
      "playing video file...\n",
      "video file loaded...\n",
      "playing video file...\n"
     ]
    }
   ],
   "source": [
    "import glob\n",
    "from time import sleep\n",
    "\n",
    "for chp in glob.glob('chirp_*.dsf'):\n",
    "    d.load_video_file(chp)\n",
    "    d.play_video_file()\n",
    "    sleep(60)"
   ]
  },
  {
   "cell_type": "code",
   "execution_count": 28,
   "metadata": {},
   "outputs": [
    {
     "data": {
      "text/plain": [
       "['chirp_4.dsf',\n",
       " 'chirp_5.dsf',\n",
       " 'chirp_7.dsf',\n",
       " 'chirp_6.dsf',\n",
       " 'chirp_2.dsf',\n",
       " 'chirp_3.dsf',\n",
       " 'chirp_1.dsf',\n",
       " 'chirp_0.dsf',\n",
       " 'chirp_8.dsf',\n",
       " 'chirp_9.dsf']"
      ]
     },
     "execution_count": 28,
     "metadata": {},
     "output_type": "execute_result"
    }
   ],
   "source": [
    "glob.glob('chirp_*.dsf')"
   ]
  },
  {
   "cell_type": "code",
   "execution_count": null,
   "metadata": {},
   "outputs": [],
   "source": []
  }
 ],
 "metadata": {
  "kernelspec": {
   "display_name": "Python 3",
   "language": "python",
   "name": "python3"
  },
  "language_info": {
   "codemirror_mode": {
    "name": "ipython",
    "version": 3
   },
   "file_extension": ".py",
   "mimetype": "text/x-python",
   "name": "python",
   "nbconvert_exporter": "python",
   "pygments_lexer": "ipython3",
   "version": "3.7.7"
  }
 },
 "nbformat": 4,
 "nbformat_minor": 4
}
