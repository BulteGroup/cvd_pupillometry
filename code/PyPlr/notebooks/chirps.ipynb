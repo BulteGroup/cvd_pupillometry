{
 "cells": [
  {
   "cell_type": "code",
   "execution_count": 2,
   "metadata": {},
   "outputs": [],
   "source": [
    "import sys\n",
    "sys.path.insert(0, '../../')\n",
    "from time import sleep\n",
    "\n",
    "import numpy as np\n",
    "import pandas as pd\n",
    "import matplotlib.pyplot as plt\n",
    "import seaborn as sns\n",
    "sns.set_context('poster')\n",
    "\n",
    "from pyplr import stlab"
   ]
  },
  {
   "cell_type": "code",
   "execution_count": 2,
   "metadata": {},
   "outputs": [
    {
     "name": "stdout",
     "output_type": "stream",
     "text": [
      "STLAB device setup complete...\n"
     ]
    }
   ],
   "source": [
    "d = stlab.STLAB(username='admin', identity=1, password='83e47941d9e930f6')"
   ]
  },
  {
   "cell_type": "code",
   "execution_count": 20,
   "metadata": {
    "jupyter": {
     "source_hidden": true
    }
   },
   "outputs": [],
   "source": [
    "def interp_spectra(spectra):\n",
    "    '''\n",
    "    This function needs generalising.\n",
    "\n",
    "    Parameters\n",
    "    ----------\n",
    "    spectra : TYPE\n",
    "        DESCRIPTION.\n",
    "\n",
    "    Returns\n",
    "    -------\n",
    "    intp_tbl : TYPE\n",
    "        DESCRIPTION.\n",
    "\n",
    "    '''\n",
    "    #tbl = spectra.unstack(level=0)\n",
    "    #tbl.columns = [val[1] for val in tbl.columns]\n",
    "    \n",
    "    intp_tbl = pd.DataFrame()\n",
    "    for led, df in spectra.groupby(['led']):\n",
    "        intensities = df.index.get_level_values('intensity')\n",
    "        new_intensities = np.linspace(intensities.min(), intensities.max(), 4096)\n",
    "        new_intensities = new_intensities.astype('int')\n",
    "        df.reset_index(inplace=True, drop=True)\n",
    "        #df.columns = range(0, df.shape[1])\n",
    "        df.index = df.index * 63\n",
    "        n = df.reindex(new_intensities).interpolate(method='linear')\n",
    "        n['intensity'] = n.index\n",
    "        n['led'] = led\n",
    "        intp_tbl = intp_tbl.append(n)\n",
    "    intp_tbl.set_index(['led','intensity'], inplace=True)\n",
    "    return intp_tbl"
   ]
  },
  {
   "cell_type": "code",
   "execution_count": 5,
   "metadata": {},
   "outputs": [
    {
     "data": {
      "text/html": [
       "<div>\n",
       "<style scoped>\n",
       "    .dataframe tbody tr th:only-of-type {\n",
       "        vertical-align: middle;\n",
       "    }\n",
       "\n",
       "    .dataframe tbody tr th {\n",
       "        vertical-align: top;\n",
       "    }\n",
       "\n",
       "    .dataframe thead th {\n",
       "        text-align: right;\n",
       "    }\n",
       "</style>\n",
       "<table border=\"1\" class=\"dataframe\">\n",
       "  <thead>\n",
       "    <tr style=\"text-align: right;\">\n",
       "      <th></th>\n",
       "      <th></th>\n",
       "      <th>S</th>\n",
       "      <th>M</th>\n",
       "      <th>L</th>\n",
       "      <th>Rods</th>\n",
       "      <th>Mel</th>\n",
       "      <th>lux</th>\n",
       "      <th>irradiance</th>\n",
       "    </tr>\n",
       "    <tr>\n",
       "      <th>led</th>\n",
       "      <th>intensity</th>\n",
       "      <th></th>\n",
       "      <th></th>\n",
       "      <th></th>\n",
       "      <th></th>\n",
       "      <th></th>\n",
       "      <th></th>\n",
       "      <th></th>\n",
       "    </tr>\n",
       "  </thead>\n",
       "  <tbody>\n",
       "    <tr>\n",
       "      <th>1</th>\n",
       "      <th>1559</th>\n",
       "      <td>3.634638</td>\n",
       "      <td>0.590597</td>\n",
       "      <td>0.421508</td>\n",
       "      <td>1.636942</td>\n",
       "      <td>1.978634</td>\n",
       "      <td>171.666063</td>\n",
       "      <td>4.413626</td>\n",
       "    </tr>\n",
       "    <tr>\n",
       "      <th>3</th>\n",
       "      <th>1800</th>\n",
       "      <td>2.095418</td>\n",
       "      <td>1.463381</td>\n",
       "      <td>0.948496</td>\n",
       "      <td>3.058520</td>\n",
       "      <td>3.574523</td>\n",
       "      <td>474.484999</td>\n",
       "      <td>4.413422</td>\n",
       "    </tr>\n",
       "    <tr>\n",
       "      <th>5</th>\n",
       "      <th>2039</th>\n",
       "      <td>0.151460</td>\n",
       "      <td>3.603402</td>\n",
       "      <td>3.025069</td>\n",
       "      <td>3.355829</td>\n",
       "      <td>2.475810</td>\n",
       "      <td>2125.065087</td>\n",
       "      <td>4.413977</td>\n",
       "    </tr>\n",
       "    <tr>\n",
       "      <th>9</th>\n",
       "      <th>1322</th>\n",
       "      <td>0.052944</td>\n",
       "      <td>0.131397</td>\n",
       "      <td>0.676928</td>\n",
       "      <td>0.069964</td>\n",
       "      <td>0.063986</td>\n",
       "      <td>341.689773</td>\n",
       "      <td>4.413424</td>\n",
       "    </tr>\n",
       "  </tbody>\n",
       "</table>\n",
       "</div>"
      ],
      "text/plain": [
       "                      S         M         L      Rods       Mel          lux  \\\n",
       "led intensity                                                                  \n",
       "1   1559       3.634638  0.590597  0.421508  1.636942  1.978634   171.666063   \n",
       "3   1800       2.095418  1.463381  0.948496  3.058520  3.574523   474.484999   \n",
       "5   2039       0.151460  3.603402  3.025069  3.355829  2.475810  2125.065087   \n",
       "9   1322       0.052944  0.131397  0.676928  0.069964  0.063986   341.689773   \n",
       "\n",
       "               irradiance  \n",
       "led intensity              \n",
       "1   1559         4.413626  \n",
       "3   1800         4.413422  \n",
       "5   2039         4.413977  \n",
       "9   1322         4.413424  "
      ]
     },
     "execution_count": 5,
     "metadata": {},
     "output_type": "execute_result"
    }
   ],
   "source": [
    "cc = stlab.CalibrationContext('../data/corrected_oo_spectra.csv')\n",
    "LED3_max = 1800 # comfortable maximal melanopsin stim\n",
    "r_matches = {}\n",
    "for led in [1,3,5,9]:\n",
    "    match = cc.match(match_led=3, match_led_intensity=LED3_max, target_led=led, match_type='irrad')\n",
    "    r_matches[led] = match\n",
    "\n",
    "idxs = [(led,intensity[1]) for led, intensity in r_matches.items()]\n",
    "stim_info = cc.aopic.loc[idxs]\n",
    "stim_info['lux'] = cc.lux.loc[idxs]\n",
    "stim_info['irradiance'] = cc.lkp.sum(axis=1)\n",
    "stim_info"
   ]
  },
  {
   "cell_type": "code",
   "execution_count": 17,
   "metadata": {},
   "outputs": [
    {
     "data": {
      "text/plain": [
       "led  intensity\n",
       "0    4095         0.365679\n",
       "1    4095         0.371801\n",
       "2    4095         0.311165\n",
       "3    4095         0.242114\n",
       "4    4095         0.250241\n",
       "5    4095         0.180836\n",
       "6    4095         0.220115\n",
       "7    4095         0.315748\n",
       "8    4095         0.252011\n",
       "9    4095         0.489332\n",
       "dtype: float64"
      ]
     },
     "execution_count": 17,
     "metadata": {},
     "output_type": "execute_result"
    }
   ],
   "source": [
    "cc.lkp.loc[[(led, 4095) for led in range(10)]].max(axis=1)"
   ]
  },
  {
   "cell_type": "code",
   "execution_count": 7,
   "metadata": {},
   "outputs": [
    {
     "data": {
      "text/plain": [
       "[(0, 4095),\n",
       " (1, 4095),\n",
       " (2, 4095),\n",
       " (3, 4095),\n",
       " (4, 4095),\n",
       " (5, 4095),\n",
       " (6, 4095),\n",
       " (7, 4095),\n",
       " (8, 4095),\n",
       " (9, 4095)]"
      ]
     },
     "execution_count": 7,
     "metadata": {},
     "output_type": "execute_result"
    }
   ],
   "source": [
    "cc.lkp.loc[[(led, 4095) for led in range(10)]].idxmax(axis=1)"
   ]
  },
  {
   "cell_type": "code",
   "execution_count": 195,
   "metadata": {},
   "outputs": [
    {
     "data": {
      "image/png": "[encoded data removed]",
      "text/plain": [
       "<Figure size 453.2x360 with 1 Axes>"
      ]
     },
     "metadata": {
      "needs_background": "light"
     },
     "output_type": "display_data"
    }
   ],
   "source": [
    "c = stlab.get_led_colors()\n",
    "c = [c[i] for i in stim_info.index.get_level_values(0)]\n",
    "d = stim_info.reset_index().melt(id_vars=['led','intensity'], \n",
    "                          value_name='flux',\n",
    "                          var_name='aopic')\n",
    "d = d[d.aopic!='lux']\n",
    "fg = sns.catplot(x='aopic', \n",
    "                  y='flux', \n",
    "                  data=d, \n",
    "                  hue='led', \n",
    "                  kind='bar', \n",
    "                  palette=c, \n",
    "                  alpha=.8)\n",
    "fg.set(xlabel='',\n",
    "       ylabel='W/m$^2$')\n",
    "plt.xticks(rotation=45)\n",
    "fg._legend.set_title('$\\lambda$-max')\n",
    "new_labels = ['446', '475', '522', '657']\n",
    "for t, l in zip(fg._legend.texts, new_labels): \n",
    "    t.set_text(l)\n",
    "fg.savefig('chirp_stims.svg')\n"
   ]
  },
  {
   "cell_type": "code",
   "execution_count": 191,
   "metadata": {},
   "outputs": [
    {
     "data": {
      "image/png": "[encoded data removed]",
      "text/plain": [
       "<Figure size 360x360 with 1 Axes>"
      ]
     },
     "metadata": {
      "needs_background": "light"
     },
     "output_type": "display_data"
    }
   ],
   "source": [
    "c = stlab.get_led_colors()\n",
    "c = [c[i] for i in stim_info.index.get_level_values(0)]\n",
    "d = stim_info.reset_index().melt(id_vars=['led','intensity'], \n",
    "                          value_name='flux',\n",
    "                          var_name='aopic')\n",
    "d = d[d.aopic=='lux']\n",
    "fg = sns.catplot(x='led', \n",
    "                  y='flux', \n",
    "                  data=d, \n",
    "                  kind='bar', \n",
    "                  palette=c, \n",
    "                  alpha=.8,\n",
    "                legend=False)\n",
    "fg.set(xlabel='',\n",
    "       ylabel='lux',\n",
    "       xticklabels=new_labels)\n",
    "plt.xticks(rotation=45)\n",
    "plt.savefig('chirp_lux.svg')"
   ]
  },
  {
   "cell_type": "code",
   "execution_count": 185,
   "metadata": {},
   "outputs": [
    {
     "data": {
      "text/html": [
       "<div>\n",
       "<style scoped>\n",
       "    .dataframe tbody tr th:only-of-type {\n",
       "        vertical-align: middle;\n",
       "    }\n",
       "\n",
       "    .dataframe tbody tr th {\n",
       "        vertical-align: top;\n",
       "    }\n",
       "\n",
       "    .dataframe thead th {\n",
       "        text-align: right;\n",
       "    }\n",
       "</style>\n",
       "<table border=\"1\" class=\"dataframe\">\n",
       "  <thead>\n",
       "    <tr style=\"text-align: right;\">\n",
       "      <th></th>\n",
       "      <th>led</th>\n",
       "      <th>intensity</th>\n",
       "      <th>aopic</th>\n",
       "      <th>flux</th>\n",
       "    </tr>\n",
       "  </thead>\n",
       "  <tbody>\n",
       "    <tr>\n",
       "      <th>20</th>\n",
       "      <td>1</td>\n",
       "      <td>1559</td>\n",
       "      <td>lux</td>\n",
       "      <td>171.666063</td>\n",
       "    </tr>\n",
       "    <tr>\n",
       "      <th>21</th>\n",
       "      <td>3</td>\n",
       "      <td>1800</td>\n",
       "      <td>lux</td>\n",
       "      <td>474.484999</td>\n",
       "    </tr>\n",
       "    <tr>\n",
       "      <th>22</th>\n",
       "      <td>5</td>\n",
       "      <td>2039</td>\n",
       "      <td>lux</td>\n",
       "      <td>2125.065087</td>\n",
       "    </tr>\n",
       "    <tr>\n",
       "      <th>23</th>\n",
       "      <td>9</td>\n",
       "      <td>1322</td>\n",
       "      <td>lux</td>\n",
       "      <td>341.689773</td>\n",
       "    </tr>\n",
       "  </tbody>\n",
       "</table>\n",
       "</div>"
      ],
      "text/plain": [
       "    led  intensity aopic         flux\n",
       "20    1       1559   lux   171.666063\n",
       "21    3       1800   lux   474.484999\n",
       "22    5       2039   lux  2125.065087\n",
       "23    9       1322   lux   341.689773"
      ]
     },
     "execution_count": 185,
     "metadata": {},
     "output_type": "execute_result"
    }
   ],
   "source": [
    "d"
   ]
  },
  {
   "cell_type": "code",
   "execution_count": 197,
   "metadata": {},
   "outputs": [
    {
     "data": {
      "image/png": "[encoded data removed]",
      "text/plain": [
       "<Figure size 432x288 with 1 Axes>"
      ]
     },
     "metadata": {
      "needs_background": "light"
     },
     "output_type": "display_data"
    }
   ],
   "source": [
    "d = cc.lkp.loc[idxs].reset_index().melt(id_vars=['led','intensity'], \n",
    "                                        value_name='flux',\n",
    "                                        var_name='Wavelength')\n",
    "fig, ax = plt.subplots()\n",
    "sns.lineplot(data=d, \n",
    "             x='Wavelength', \n",
    "             y='flux', \n",
    "             units='led', \n",
    "             estimator=None, \n",
    "             hue='led', \n",
    "             palette=c, \n",
    "             legend=False, \n",
    "             ax=ax)\n",
    "ax.set(ylabel='W/m$^2$/nm',\n",
    "      xlabel='Wavelength (nm)')\n",
    "sns.despine()\n",
    "fig.savefig('chirp_SPDs.svg', bbox_inches='tight')\n"
   ]
  },
  {
   "cell_type": "code",
   "execution_count": 9,
   "metadata": {},
   "outputs": [
    {
     "name": "stdout",
     "output_type": "stream",
     "text": [
      "\"chirp_1.dsf\" saved in the current working directory.\n",
      "\"chirp_3.dsf\" saved in the current working directory.\n",
      "\"chirp_5.dsf\" saved in the current working directory.\n",
      "\"chirp_9.dsf\" saved in the current working directory.\n"
     ]
    }
   ],
   "source": [
    "from scipy.signal import chirp\n",
    "\n",
    "for (led, intensity), info in stim_info.iterrows():\n",
    "\n",
    "    # stimulus params\n",
    "    videoname = 'chirp_{}'.format(led)\n",
    "    Fs = 100\n",
    "    mintensity = 0\n",
    "    maxtensity = intensity\n",
    "\n",
    "    # stimulus params\n",
    "    background  = maxtensity/2\n",
    "    amplitude   = maxtensity/2\n",
    "    duration = 20\n",
    "    n = 2000\n",
    "    t = np.linspace(0, duration, n, endpoint=False)\n",
    "    f0 = 0.01\n",
    "    f1 = 1\n",
    "\n",
    "    # define frequency modulation\n",
    "    chp = chirp(t, f0, duration, f1, method='linear', phi=270)\n",
    "    chp = stlab.modulate_intensity_amplitude(chp, background, amplitude)\n",
    "    #fig, ax = plt.subplots(figsize=(12,4))\n",
    "    #ax.plot(chp)\n",
    "    #ax.set_ylabel(\"Intensity\")\n",
    "    #ax.set_xlabel(\"Time\")\n",
    "\n",
    "    # define amplitude modulation\n",
    "    time  = stlab.get_time_vector(duration)\n",
    "    sm = stlab.sinusoid_modulation(.5, duration, Fs)\n",
    "    ivals = stlab.modulate_intensity_amplitude(sm, background, np.linspace(0,amplitude,duration*Fs))\n",
    "    #fig, ax = plt.subplots(figsize=(12,4))\n",
    "    #ax.plot(ivals)\n",
    "    #ax.set_ylabel(\"Intensity\")\n",
    "    #ax.set_xlabel(\"Time\");\n",
    "\n",
    "    duration=60\n",
    "    time = stlab.get_time_vector(duration)\n",
    "    stim = np.zeros(duration*Fs)\n",
    "\n",
    "    # assemble time course\n",
    "    stim[0:100]     = maxtensity # 1s pulse\n",
    "    stim[800:900]   = background # step\n",
    "    stim[900:2900]  = chp  # chirp\n",
    "    stim[2900:3100] = background\n",
    "    stim[3100:5100] = ivals\n",
    "    stim[5100:5300] = background\n",
    "    stim = stim.astype('int')\n",
    "\n",
    "    # plot\n",
    "    #fig, ax = plt.subplots(figsize=(16,4))\n",
    "    #ax.plot(stim)\n",
    "    #ax.set_ylabel(\"Intensity\")\n",
    "    #ax.set_xlabel(\"Time\")\n",
    "\n",
    "    # make video file\n",
    "    cols = stlab.get_video_cols()\n",
    "    zs = np.zeros(duration*Fs)\n",
    "    zs = zs.astype('int')\n",
    "    data = [zs for x in range(10)]\n",
    "    data[led] = stim\n",
    "\n",
    "    #data = [stim for x in range(10)]\n",
    "    data.insert(0, time)\n",
    "    df = pd.DataFrame(data, cols).T\n",
    "    setting = {'led':led,'max_intensity':intensity}\n",
    "    info = {**info.to_dict(), **setting}\n",
    "    stlab.make_video_file(df, videoname, **info)"
   ]
  },
  {
   "cell_type": "code",
   "execution_count": 15,
   "metadata": {},
   "outputs": [
    {
     "data": {
      "image/png": "[encoded data removed]",
      "text/plain": [
       "<Figure size 1008x288 with 1 Axes>"
      ]
     },
     "metadata": {
      "needs_background": "light"
     },
     "output_type": "display_data"
    }
   ],
   "source": [
    "#stim = np.hstack([np.zeros(500),stim])\n",
    "fig, ax = plt.subplots(figsize=(14,4))\n",
    "ax.plot(np.arange(0, len(stim)), stim, c='k')\n",
    "plt.xlabel('Time (s)')\n",
    "plt.yticks([0,1322],['min','max'])\n",
    "plt.xticks(range(500, 7000, 1000), [str(val) for val in range(0, 70, 10)])\n",
    "sns.despine()\n",
    "plt.savefig('chirp_profile.svg', bbox_inches='tight')"
   ]
  },
  {
   "cell_type": "code",
   "execution_count": 8,
   "metadata": {},
   "outputs": [
    {
     "name": "stdout",
     "output_type": "stream",
     "text": [
      "video file loaded...\n",
      "playing video file...\n",
      "video file loaded...\n",
      "playing video file...\n",
      "video file loaded...\n",
      "playing video file...\n",
      "video file loaded...\n",
      "playing video file...\n",
      "video file loaded...\n",
      "playing video file...\n",
      "video file loaded...\n",
      "playing video file...\n",
      "video file loaded...\n",
      "playing video file...\n",
      "video file loaded...\n",
      "playing video file...\n",
      "video file loaded...\n",
      "playing video file...\n",
      "video file loaded...\n",
      "playing video file...\n"
     ]
    }
   ],
   "source": [
    "import glob\n",
    "from time import sleep\n",
    "\n",
    "for chp in glob.glob('chirp_*.dsf'):\n",
    "    d.load_video_file(chp)\n",
    "    d.play_video_file()\n",
    "    sleep(60)"
   ]
  },
  {
   "cell_type": "code",
   "execution_count": 28,
   "metadata": {},
   "outputs": [
    {
     "data": {
      "text/plain": [
       "['chirp_4.dsf',\n",
       " 'chirp_5.dsf',\n",
       " 'chirp_7.dsf',\n",
       " 'chirp_6.dsf',\n",
       " 'chirp_2.dsf',\n",
       " 'chirp_3.dsf',\n",
       " 'chirp_1.dsf',\n",
       " 'chirp_0.dsf',\n",
       " 'chirp_8.dsf',\n",
       " 'chirp_9.dsf']"
      ]
     },
     "execution_count": 28,
     "metadata": {},
     "output_type": "execute_result"
    }
   ],
   "source": [
    "glob.glob('chirp_*.dsf')"
   ]
  },
  {
   "cell_type": "code",
   "execution_count": null,
   "metadata": {},
   "outputs": [],
   "source": []
  }
 ],
 "metadata": {
  "kernelspec": {
   "display_name": "Python 3",
   "language": "python",
   "name": "python3"
  },
  "language_info": {
   "codemirror_mode": {
    "name": "ipython",
    "version": 3
   },
   "file_extension": ".py",
   "mimetype": "text/x-python",
   "name": "python",
   "nbconvert_exporter": "python",
   "pygments_lexer": "ipython3",
   "version": "3.7.7"
  }
 },
 "nbformat": 4,
 "nbformat_minor": 4
}
