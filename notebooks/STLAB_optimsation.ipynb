{
 "cells": [
  {
   "cell_type": "code",
   "execution_count": 4,
   "metadata": {},
   "outputs": [],
   "source": [
    "import numpy as np\n",
    "import matplotlib.pyplot as plt\n",
    "from scipy.optimize import curve_fit\n",
    "from scipy.stats import beta\n",
    "import pandas as pd\n",
    "\n",
    "from pyplr.calibrate import CalibrationContext"
   ]
  },
  {
   "cell_type": "code",
   "execution_count": 11,
   "metadata": {},
   "outputs": [],
   "source": [
    "# load the sample spectra and convert to melanopic irradiance\n",
    "cc = CalibrationContext(data='../data/S2_corrected_oo_spectra.csv', binwidth=1)\n",
    "cc."
   ]
  },
  {
   "cell_type": "code",
   "execution_count": 12,
   "metadata": {},
   "outputs": [
    {
     "data": {
      "text/plain": [
       "<pyplr.calibrate.CalibrationContext at 0x125d4c5d0>"
      ]
     },
     "execution_count": 12,
     "metadata": {},
     "output_type": "execute_result"
    }
   ],
   "source": [
    "cc."
   ]
  },
  {
   "cell_type": "code",
   "execution_count": 8,
   "metadata": {},
   "outputs": [
    {
     "ename": "ModuleNotFoundError",
     "evalue": "No module named 'CIE'",
     "output_type": "error",
     "traceback": [
      "\u001b[0;31m---------------------------------------------------------------------------\u001b[0m",
      "\u001b[0;31mModuleNotFoundError\u001b[0m                       Traceback (most recent call last)",
      "\u001b[0;32m<ipython-input-8-487688083af2>\u001b[0m in \u001b[0;36m<module>\u001b[0;34m\u001b[0m\n\u001b[1;32m      5\u001b[0m \u001b[0;34m\u001b[0m\u001b[0m\n\u001b[1;32m      6\u001b[0m \u001b[0;31m#mi = stlab.spectra_to_melanopic_irradiance(spectra, grouper=['led','input'])\u001b[0m\u001b[0;34m\u001b[0m\u001b[0;34m\u001b[0m\u001b[0;34m\u001b[0m\u001b[0m\n\u001b[0;32m----> 7\u001b[0;31m \u001b[0mvl\u001b[0m \u001b[0;34m=\u001b[0m \u001b[0mstlab\u001b[0m\u001b[0;34m.\u001b[0m\u001b[0mspectra_to_luminance\u001b[0m\u001b[0;34m(\u001b[0m\u001b[0mspectra\u001b[0m\u001b[0;34m,\u001b[0m \u001b[0mgrouper\u001b[0m\u001b[0;34m=\u001b[0m\u001b[0;34m[\u001b[0m\u001b[0;34m'led'\u001b[0m\u001b[0;34m,\u001b[0m\u001b[0;34m'input'\u001b[0m\u001b[0;34m]\u001b[0m\u001b[0;34m)\u001b[0m\u001b[0;34m\u001b[0m\u001b[0;34m\u001b[0m\u001b[0m\n\u001b[0m\u001b[1;32m      8\u001b[0m \u001b[0;34m\u001b[0m\u001b[0m\n\u001b[1;32m      9\u001b[0m \u001b[0mcolors\u001b[0m \u001b[0;34m=\u001b[0m \u001b[0mstlab\u001b[0m\u001b[0;34m.\u001b[0m\u001b[0mget_led_colors\u001b[0m\u001b[0;34m(\u001b[0m\u001b[0;34m)\u001b[0m\u001b[0;34m\u001b[0m\u001b[0;34m\u001b[0m\u001b[0m\n",
      "\u001b[0;32m~/Projects/PyPlr/pyplr/stlab.py\u001b[0m in \u001b[0;36mspectra_to_luminance\u001b[0;34m(spectra, grouper)\u001b[0m\n\u001b[1;32m    967\u001b[0m     \u001b[0;32mreturn\u001b[0m \u001b[0mmi\u001b[0m\u001b[0;34m\u001b[0m\u001b[0;34m\u001b[0m\u001b[0m\n\u001b[1;32m    968\u001b[0m \u001b[0;34m\u001b[0m\u001b[0m\n\u001b[0;32m--> 969\u001b[0;31m \u001b[0;32mdef\u001b[0m \u001b[0mspectra_to_luminance\u001b[0m\u001b[0;34m(\u001b[0m\u001b[0mspectra\u001b[0m\u001b[0;34m,\u001b[0m \u001b[0mgrouper\u001b[0m\u001b[0;34m=\u001b[0m\u001b[0;34m[\u001b[0m\u001b[0;34m'led'\u001b[0m\u001b[0;34m,\u001b[0m\u001b[0;34m'intensity'\u001b[0m\u001b[0;34m]\u001b[0m\u001b[0;34m)\u001b[0m\u001b[0;34m:\u001b[0m\u001b[0;34m\u001b[0m\u001b[0;34m\u001b[0m\u001b[0m\n\u001b[0m\u001b[1;32m    970\u001b[0m \u001b[0;34m\u001b[0m\u001b[0m\n\u001b[1;32m    971\u001b[0m     \u001b[0;31m# get luminancephotopic luminance curve\u001b[0m\u001b[0;34m\u001b[0m\u001b[0;34m\u001b[0m\u001b[0;34m\u001b[0m\u001b[0m\n",
      "\u001b[0;31mModuleNotFoundError\u001b[0m: No module named 'CIE'"
     ]
    }
   ],
   "source": [
    "# load the sample spectra and convert to melanopic irradiance\n",
    "spectra = pd.read_csv(\"../data/S2_corrected_oo_spectra.csv\")\n",
    "spectra = spectra.loc[spectra.intensity!=0]\n",
    "spectra['input'] = spectra['intensity'] / 4095\n",
    "\n",
    "#mi = stlab.spectra_to_melanopic_irradiance(spectra, grouper=['led','input'])\n",
    "vl = stlab.spectra_to_luminance(spectra, grouper=['led','input'])\n",
    "\n",
    "colors = stlab.get_led_colors()\n",
    "\n",
    "fig, axs = plt.subplots(2,5, figsize=(16,5))\n",
    "axs = [item for sublist in axs for item in sublist]\n",
    "\n",
    "for idx, df in vl.groupby(level=0):\n",
    "    xdata = df.index.get_level_values(1)\n",
    "    ydata = df.values\n",
    "    ydata = ydata / np.max(ydata)\n",
    "    \n",
    "    # Defines function we want to fit\n",
    "    def func(x, a, b):\n",
    "        return beta.cdf(x, a, b)\n",
    "\n",
    "    axs[idx].scatter(xdata, ydata, color=colors[idx], s=2)\n",
    "    \n",
    "    # Fit\n",
    "    popt, pcov = curve_fit(beta.cdf, xdata, ydata, [2.0, 1.0])\n",
    "    ypred = func(xdata, *popt)\n",
    "    axs[idx].plot(xdata, ypred, color=colors[idx], label='fit: a=%5.3f, b=%5.3f' % tuple(popt))\n",
    "    axs[idx].set_title('Channel {}'.format(idx))\n",
    "    axs[idx].legend()\n",
    "plt.tight_layout()"
   ]
  },
  {
   "cell_type": "code",
   "execution_count": 11,
   "metadata": {},
   "outputs": [
    {
     "data": {
      "text/plain": [
       "[<matplotlib.lines.Line2D at 0x173cc475d48>]"
      ]
     },
     "execution_count": 11,
     "metadata": {},
     "output_type": "execute_result"
    },
    {
     "data": {
      "image/png": "[encoded data removed]",
      "text/plain": [
       "<Figure size 432x288 with 1 Axes>"
      ]
     },
     "metadata": {
      "needs_background": "light"
     },
     "output_type": "display_data"
    }
   ],
   "source": [
    "plt.plot(ypred, xdata)"
   ]
  },
  {
   "cell_type": "code",
   "execution_count": 17,
   "metadata": {},
   "outputs": [
    {
     "data": {
      "text/plain": [
       "array([  94.3181451 ,  174.98897136,  251.24482328,  324.79121948,\n",
       "        396.40344935,  466.52478678,  535.44160252,  603.35379898,\n",
       "        670.40865131,  736.71907979,  802.37437496,  867.44690207,\n",
       "        931.99650428,  996.07351232, 1059.72087023, 1122.97567914,\n",
       "       1185.87034515, 1248.43345052, 1310.69042692, 1372.66408409,\n",
       "       1434.3750309 , 1495.84201526, 1557.08220173, 1618.11140087,\n",
       "       1678.94426081, 1739.59442885, 1800.07468922, 1860.39708175,\n",
       "       1920.57300514, 1980.61330785, 2040.52836898, 2100.32817124,\n",
       "       2160.02236758, 2219.62034304, 2279.13127294, 2338.5641788 ,\n",
       "       2397.92798285, 2457.23156234, 2516.48380473, 2575.69366491,\n",
       "       2634.87022575, 2694.02276339, 2753.16081925, 2812.29428057,\n",
       "       2871.43347247, 2930.58926468, 2989.77319753, 3048.99763297,\n",
       "       3108.27593847, 3167.62271476, 3227.05408245, 3286.58804942,\n",
       "       3346.24499089, 3406.04829032, 3466.02521619, 3526.20815546,\n",
       "       3586.63640719, 3647.35889622, 3708.4384852 , 3769.95926672,\n",
       "       3832.0399541 , 3894.86146983, 3958.73464873, 4024.32720524,\n",
       "       4095.        ])"
      ]
     },
     "execution_count": 17,
     "metadata": {},
     "output_type": "execute_result"
    }
   ],
   "source": [
    "ypred * 4095"
   ]
  },
  {
   "cell_type": "code",
   "execution_count": null,
   "metadata": {},
   "outputs": [],
   "source": []
  }
 ],
 "metadata": {
  "kernelspec": {
   "display_name": "Python 3",
   "language": "python",
   "name": "python3"
  },
  "language_info": {
   "codemirror_mode": {
    "name": "ipython",
    "version": 3
   },
   "file_extension": ".py",
   "mimetype": "text/x-python",
   "name": "python",
   "nbconvert_exporter": "python",
   "pygments_lexer": "ipython3",
   "version": "3.7.7"
  }
 },
 "nbformat": 4,
 "nbformat_minor": 4
}
