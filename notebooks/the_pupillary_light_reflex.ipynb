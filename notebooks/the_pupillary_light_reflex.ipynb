{
 "cells": [
  {
   "cell_type": "markdown",
   "metadata": {},
   "source": [
    "The pupillary light reflex (PLR)\n",
    "================================\n",
    "\n",
    "The PLR is the intrinsic mechanism of the pupil to constrict and dilate in response to changing light levels. Though its precise evolutionary function is debated, the PLR helps to optimse retinal image quality by regulating the ammount and trajectory of light that strikes the retina and it may also serve to protect photoreceptors from bleaching and dangerous levels of light. From a scientific standpoint, the PLR is interesting because it reflects the integrity and activity of the central nervous system. Assessments of the light reflex are made routinely in clinical settings to monitor patient health, and "
   ]
  },
  {
   "cell_type": "code",
   "execution_count": null,
   "metadata": {},
   "outputs": [],
   "source": []
  }
 ],
 "metadata": {
  "kernelspec": {
   "display_name": "Python 3",
   "language": "python",
   "name": "python3"
  },
  "language_info": {
   "codemirror_mode": {
    "name": "ipython",
    "version": 3
   },
   "file_extension": ".py",
   "mimetype": "text/x-python",
   "name": "python",
   "nbconvert_exporter": "python",
   "pygments_lexer": "ipython3",
   "version": "3.7.7"
  }
 },
 "nbformat": 4,
 "nbformat_minor": 4
}
