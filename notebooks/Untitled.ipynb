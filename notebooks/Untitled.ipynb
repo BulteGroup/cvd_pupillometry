{
 "cells": [
  {
   "cell_type": "markdown",
   "metadata": {},
   "source": []
  },
  {
   "cell_type": "markdown",
   "metadata": {},
   "source": [
    "A First Level Header\n",
    "====================\n",
    "\n",
    "A Second Level Header\n",
    "---------------------\n",
    "\n",
    "Now is the time for all good men to come to\n",
    "the aid of their country. This is just a\n",
    "regular paragraph.\n",
    "\n",
    "The quick brown fox jumped over the lazy\n",
    "dog's back.\n",
    "\n",
    "### Header 3\n",
    "\n",
    "> This is a blockquote.\n",
    "> \n",
    "> This is the second paragraph in the blockquote.\n",
    ">\n",
    "> ## This is an H2 in a blockquote\n",
    "\n",
    "Some of these words *are emphasized*.\n",
    "Some of these words _are emphasized also_.\n",
    "\n",
    "Use two asterisks for **strong emphasis**.\n",
    "Or, if you prefer, __use two underscores instead__.\n",
    "\n",
    "Unordered (bulleted) lists use asterisks, pluses, and hyphens (*, +, and -) as list markers. These three markers are interchangable; this:\n",
    "\n",
    "*   Candy.\n",
    "*   Gum.\n",
    "*   Booze.\n",
    "\n",
    "this:\n",
    "\n",
    "+   Candy.\n",
    "+   Gum.\n",
    "+   Booze.\n",
    "\n",
    "and this:\n",
    "\n",
    "-   Candy.\n",
    "-   Gum.\n",
    "-   Booze.\n",
    "\n",
    "1.  Red\n",
    "2.  Green\n",
    "3.  Blue\n",
    "\n",
    "If you put blank lines between items, you’ll get <p> tags for the list item text. You can create multi-paragraph list items by indenting the paragraphs by 4 spaces or 1 tab:\n",
    "\n",
    "*   A list item.\n",
    "\n",
    "    With multiple paragraphs.\n",
    "\n",
    "*   Another item in the list.\n",
    "\n",
    "I strongly recommend against using any `<blink>` tags.\n",
    "\n",
    "I wish SmartyPants used named entities like `&mdash;`\n",
    "instead of decimal-encoded entites like `&#8212;`."
   ]
  },
  {
   "cell_type": "code",
   "execution_count": null,
   "metadata": {},
   "outputs": [],
   "source": []
  }
 ],
 "metadata": {
  "kernelspec": {
   "display_name": "Python 3",
   "language": "python",
   "name": "python3"
  },
  "language_info": {
   "codemirror_mode": {
    "name": "ipython",
    "version": 3
   },
   "file_extension": ".py",
   "mimetype": "text/x-python",
   "name": "python",
   "nbconvert_exporter": "python",
   "pygments_lexer": "ipython3",
   "version": "3.7.9"
  }
 },
 "nbformat": 4,
 "nbformat_minor": 4
}
