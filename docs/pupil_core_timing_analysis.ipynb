{
 "cells": [
  {
   "cell_type": "markdown",
   "metadata": {},
   "source": [
    "Pupil Core device timing\n",
    "========================\n",
    "\n",
    "The Pupil Core eye tracker synchronises the clocks of thre cameras, but this is not perfect. This analysis explores the reliabilty of the timing and the implications.\n",
    "\n",
    "- discuss settings that affect timing\n",
    "- results of near IR camera sync test on mac and windows and possibly on linux as well\n",
    "- What does this mean for latency measures?\n"
   ]
  },
  {
   "cell_type": "markdown",
   "metadata": {},
   "source": [
    "Test script\n",
    "-----------\n",
    "\n",
    "List all of the relevant settings used!"
   ]
  },
  {
   "cell_type": "raw",
   "metadata": {},
   "source": [
    "import sys\n",
    "#sys.path.insert(0, '../')\n",
    "from time import sleep\n",
    "\n",
    "from pyplr.stlab import SpectraTuneLab#, pulse_protocol\n",
    "from pyplr.pupil import PupilCore\n",
    "\n",
    "# set up pupil\n",
    "p = PupilCore()\n",
    "\n",
    "# setup stlab and make spectrum with near-IR\n",
    "d = SpectraTuneLab(username='admin', identity=1, password='83e47941d9e930f6')\n",
    "spec = [0, 0, 0, 0, 0, 0, 0, 4095, 0, 0]\n",
    "#pulse_protocol(spec, 1000, '1s_near_IR_pulse')\n",
    "d.load_video_file('1s_near_IR_pulse.dsf')\n",
    "\n",
    "# trigger params\n",
    "threshold = 15\n",
    "timeout = 6.\n",
    "\n",
    "# make annotations for each camera\n",
    "world_annotation = p.new_annotation('LIGHT_ON_WORLD')\n",
    "eye_0_annotation = p.new_annotation('LIGHT_ON_EYE_0')\n",
    "eye_1_annotation = p.new_annotation('LIGHT_ON_EYE_1')\n",
    "\n",
    "# start recording and wait 10 s\n",
    "p.command('R pupil_core_camera_sync_tests')\n",
    "sleep(10.)\n",
    "\n",
    "# 400 1s pulses\n",
    "for i in range(400):\n",
    "    # start light_stampers\n",
    "    lst_world = p.light_stamper(\n",
    "        world_annotation, threshold, timeout, topic='frame.world')\n",
    "    lst_eye_0 = p.light_stamper(\n",
    "        eye_0_annotation, threshold, timeout, topic='frame.eye.0')\n",
    "    lst_eye_1 = p.light_stamper(\n",
    "        eye_1_annotation, threshold, timeout, topic='frame.eye.1')\n",
    "    \n",
    "    # wait 100 ms then present stimulus\n",
    "    sleep(1.)\n",
    "    d.play_video_file()\n",
    "    \n",
    "    sleep(6.)\n",
    "\n",
    "# wait for 5 s and stop recording\n",
    "sleep(5.)   \n",
    "p.command('r')"
   ]
  },
  {
   "cell_type": "markdown",
   "metadata": {},
   "source": [
    "MacOS\n",
    "-----\n",
    "\n",
    "Results"
   ]
  },
  {
   "cell_type": "markdown",
   "metadata": {},
   "source": [
    "Windows\n",
    "-------\n",
    "\n",
    "Results"
   ]
  },
  {
   "cell_type": "markdown",
   "metadata": {},
   "source": [
    "Implications for latency measures\n",
    "---------------------------------\n",
    "\n",
    "- biological implausability on mac\n",
    "- Repeatability and possibility of correction\n",
    "- etc.\n"
   ]
  }
 ],
 "metadata": {
  "kernelspec": {
   "display_name": "Python 3",
   "language": "python",
   "name": "python3"
  },
  "language_info": {
   "codemirror_mode": {
    "name": "ipython",
    "version": 3
   },
   "file_extension": ".py",
   "mimetype": "text/x-python",
   "name": "python",
   "nbconvert_exporter": "python",
   "pygments_lexer": "ipython3",
   "version": "3.7.7"
  }
 },
 "nbformat": 4,
 "nbformat_minor": 4
}
