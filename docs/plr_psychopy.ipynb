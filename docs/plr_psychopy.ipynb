{
 "cells": [
  {
   "cell_type": "markdown",
   "metadata": {},
   "source": [
    "PsychoPy PLR\n",
    "============\n",
    "\n",
    "If a standard computer monitor is sufficient for presenting your light stimuli, you could use *PyPlr* with PsychoPy. This minimal example presentes a white flash on a monitor using psychopy. "
   ]
  },
  {
   "cell_type": "code",
   "execution_count": null,
   "metadata": {},
   "outputs": [],
   "source": [
    "#!/usr/bin/env python\n",
    "# -*- coding: utf-8 -*-\n",
    "\n",
    "# would be nice to include a basic PsychoPy script that works with a standard monitor.\n",
    "# requires pyglet=1.4.10 to avoid threading error\n",
    "\n",
    "from __future__ import print_function\n",
    "from time import sleep\n",
    "from psychopy import core, event, visual\n",
    "from pyplr.pupil import PupilCore\n",
    "\n",
    "def change_color(win, color, log=False):\n",
    "    win.color = color\n",
    "    if log:\n",
    "        print('Changed color to %s' % win.color)\n",
    "\n",
    "win = visual.Window(color=[0.,0.,0.])\n",
    "# text = visual.TextStim(win,\n",
    "#                       text='Press C to flash light')\n",
    "\n",
    "# Global event key to change window background color.\n",
    "# event.globalKeys.add(key='c',\n",
    "#                     func=change_color,\n",
    "#                     func_args=[win],\n",
    "#                     func_kwargs=dict(log=True),\n",
    "#                     name='change window color')\n",
    "\n",
    "# Global event key (with modifier) to quit the experiment (\"shutdown key\").\n",
    "# event.globalKeys.add(key='q', modifiers=['ctrl'], func=core.quit)\n",
    "\n",
    "# Connect to Pupil Core\n",
    "p = PupilCore()\n",
    "\n",
    "# Start recording\n",
    "p.command('R')\n",
    "sleep(5)\n",
    "\n",
    "annotation = p.new_annotation(label='LIGHT_ON')\n",
    "lst = p.light_stamper(annotation=annotation, \n",
    "                      threshold=15,\n",
    "                      timeout=10, \n",
    "                      topic='frame.world')\n",
    "sleep(2)\n",
    "change_color(win, color=[1.,1.,1.])\n",
    "win.flip()\n",
    "sleep(1)\n",
    "change_color(win, color=[0.,0.,0.])\n",
    "win.flip()\n",
    "sleep(2)\n",
    "\n",
    "# End recording\n",
    "p.command('r')\n",
    "\n",
    "#lst.result()"
   ]
  }
 ],
 "metadata": {
  "kernelspec": {
   "display_name": "Python 3",
   "language": "python",
   "name": "python3"
  },
  "language_info": {
   "codemirror_mode": {
    "name": "ipython",
    "version": 3
   },
   "file_extension": ".py",
   "mimetype": "text/x-python",
   "name": "python",
   "nbconvert_exporter": "python",
   "pygments_lexer": "ipython3",
   "version": "3.7.7"
  }
 },
 "nbformat": 4,
 "nbformat_minor": 4
}
