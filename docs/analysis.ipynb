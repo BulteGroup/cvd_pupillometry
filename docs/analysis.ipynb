{
 "cells": [
  {
   "cell_type": "markdown",
   "metadata": {},
   "source": [
    "Analysis of pupil data\n",
    "======================\n",
    "\n",
    "Approaches to data analysis must be made through consideration of the experiment. In cognitive pupillometry, there are many considerations that may be of less importance when analysing the light reflex. \n",
    "\n",
    "Good [review](https://www.journalofcognition.org/articles/10.5334/joc.18/)\n",
    "\n",
    "There are many ways to analyse data, and it can be quite personal. \n",
    "\n",
    "*PyPlr* includes scripting tools to implement a standard analysis pipeline with Pupil LAbs pupillometry data. A typical pipeline for data analysis is as follows:\n",
    "\n",
    "- Export a recording with Pupil Player\n",
    "- Data loading\n",
    "- Preprocessing (dealing with blinks, smoothing, etc.)\n",
    "- Trial extraction\n",
    "- Summarising\n",
    "\n",
    "Good [review](https://www.journalofcognition.org/articles/10.5334/joc.18/)"
   ]
  },
  {
   "cell_type": "markdown",
   "metadata": {},
   "source": [
    "Export with Pupil Player\n",
    "------------------------\n",
    "\n",
    "[batch exporter]()\n",
    "\n",
    "[Pupil Player](https://docs.pupil-labs.com/core/software/pupil-player/) is Pupil Labs' software for visualising and exporting data."
   ]
  },
  {
   "cell_type": "markdown",
   "metadata": {},
   "source": [
    "Load exported data\n",
    "------------------\n",
    "\n"
   ]
  },
  {
   "cell_type": "code",
   "execution_count": 1,
   "metadata": {},
   "outputs": [
    {
     "ename": "ModuleNotFoundError",
     "evalue": "No module named 'pyplr'",
     "output_type": "error",
     "traceback": [
      "\u001b[0;31m---------------------------------------------------------------------------\u001b[0m",
      "\u001b[0;31mModuleNotFoundError\u001b[0m                       Traceback (most recent call last)",
      "\u001b[0;32m<ipython-input-1-7d3a38caf958>\u001b[0m in \u001b[0;36m<module>\u001b[0;34m\u001b[0m\n\u001b[1;32m      1\u001b[0m \u001b[0;32mimport\u001b[0m \u001b[0mnumpy\u001b[0m \u001b[0;32mas\u001b[0m \u001b[0mnp\u001b[0m\u001b[0;34m\u001b[0m\u001b[0;34m\u001b[0m\u001b[0m\n\u001b[1;32m      2\u001b[0m \u001b[0;34m\u001b[0m\u001b[0m\n\u001b[0;32m----> 3\u001b[0;31m \u001b[0;32mfrom\u001b[0m \u001b[0mpyplr\u001b[0m \u001b[0;32mimport\u001b[0m \u001b[0mutils\u001b[0m\u001b[0;34m\u001b[0m\u001b[0;34m\u001b[0m\u001b[0m\n\u001b[0m\u001b[1;32m      4\u001b[0m \u001b[0;32mfrom\u001b[0m \u001b[0mpyplr\u001b[0m \u001b[0;32mimport\u001b[0m \u001b[0mpreproc\u001b[0m\u001b[0;34m\u001b[0m\u001b[0;34m\u001b[0m\u001b[0m\n\u001b[1;32m      5\u001b[0m \u001b[0;32mfrom\u001b[0m \u001b[0mpyplr\u001b[0m \u001b[0;32mimport\u001b[0m \u001b[0mgraphing\u001b[0m\u001b[0;34m\u001b[0m\u001b[0;34m\u001b[0m\u001b[0m\n",
      "\u001b[0;31mModuleNotFoundError\u001b[0m: No module named 'pyplr'"
     ]
    }
   ],
   "source": [
    "import numpy as np\n",
    "\n",
    "from pyplr import utils\n",
    "from pyplr import preproc\n",
    "from pyplr import graphing\n",
    "\n",
    "pupil_cols = ['diameter_3d']\n",
    "SAMPLE_RATE=120\n",
    "rec_dir = '/Users/jtm/OneDrive - Nexus365/protocols/pipr_protocol/JTM_b'\n",
    "\n",
    "\n",
    "utils.print_file_structure(rec_dir)\n",
    "s = utils.new_subject(rec_dir, export='000', out_dir_nm='pyplr_analysis')\n",
    "samples = utils.load_pupil(s['data_dir'], eye_id='best')\n",
    "events = utils.load_annotations(s['data_dir'])\n",
    "blinks = utils.load_blinks(s['data_dir'])\n",
    "\n",
    "# make figure for processing\n",
    "f, axs = graphing.pupil_preprocessing(nrows=5, subject='test')\n",
    "\n",
    "# plot the raw data\n",
    "samples[pupil_cols].plot(title='Raw', ax=axs[0], legend=False)\n",
    "\n",
    "# # masking\n",
    "samples = preproc.mask_pupil_first_derivative(\n",
    "    samples, threshold=3.0, mask_cols=pupil_cols)\n",
    "samples[pupil_cols].plot(title='Masked 1st deriv (<SD*3)', ax=axs[1], legend=False)\n",
    "samples = preproc.mask_pupil_confidence(\n",
    "    samples, threshold=0.8, mask_cols=pupil_cols)\n",
    "samples[pupil_cols].plot(title='Masked confidence (<0.8)', ax=axs[2], legend=False)\n",
    "\n",
    "# interpolate blinks\n",
    "samples = preproc.interpolate_pupil(samples, interp_cols=pupil_cols)\n",
    "samples[pupil_cols].plot(title='Linear interpolation', ax=axs[3], legend=False)\n",
    "\n",
    "# smooth  \n",
    "samples = preproc.butterworth_series(samples, \n",
    "                                  fields=pupil_cols, \n",
    "                                  filt_order=3, \n",
    "                                  cutoff_freq=4/(SAMPLE_RATE/2))\n",
    "samples[pupil_cols].plot(title='Butterworth filtered', \n",
    "                         ax=axs[4], \n",
    "                         legend=False)"
   ]
  },
  {
   "cell_type": "markdown",
   "metadata": {},
   "source": [
    "Preprocessing\n",
    "-------------\n"
   ]
  },
  {
   "cell_type": "code",
   "execution_count": null,
   "metadata": {},
   "outputs": [],
   "source": [
    "# make figure for processing\n",
    "f, axs = graphing.pupil_preprocessing(nrows=5, subject='test')\n",
    "\n",
    "# plot the raw data\n",
    "samples[pupil_cols].plot(title='Raw', ax=axs[0], legend=False)\n",
    "\n",
    "# # masking\n",
    "samples = preproc.mask_pupil_first_derivative(\n",
    "    samples, threshold=3.0, mask_cols=pupil_cols)\n",
    "samples[pupil_cols].plot(title='Masked 1st deriv (<SD*3)', ax=axs[1], legend=False)\n",
    "samples = preproc.mask_pupil_confidence(\n",
    "    samples, threshold=0.8, mask_cols=pupil_cols)\n",
    "samples[pupil_cols].plot(title='Masked confidence (<0.8)', ax=axs[2], legend=False)\n",
    "\n",
    "# interpolate blinks\n",
    "samples = preproc.interpolate_pupil(samples, interp_cols=pupil_cols)\n",
    "samples[pupil_cols].plot(title='Linear interpolation', ax=axs[3], legend=False)\n",
    "\n",
    "# smooth  \n",
    "samples = preproc.butterworth_series(samples, \n",
    "                                  fields=pupil_cols, \n",
    "                                  filt_order=3, \n",
    "                                  cutoff_freq=4/(SAMPLE_RATE/2))\n",
    "samples[pupil_cols].plot(title='Butterworth filtered', \n",
    "                         ax=axs[4], \n",
    "                         legend=False)"
   ]
  },
  {
   "cell_type": "code",
   "execution_count": null,
   "metadata": {},
   "outputs": [],
   "source": []
  },
  {
   "cell_type": "code",
   "execution_count": null,
   "metadata": {},
   "outputs": [],
   "source": []
  }
 ],
 "metadata": {
  "kernelspec": {
   "display_name": "Python 3",
   "language": "python",
   "name": "python3"
  },
  "language_info": {
   "codemirror_mode": {
    "name": "ipython",
    "version": 3
   },
   "file_extension": ".py",
   "mimetype": "text/x-python",
   "name": "python",
   "nbconvert_exporter": "python",
   "pygments_lexer": "ipython3",
   "version": "3.7.7"
  }
 },
 "nbformat": 4,
 "nbformat_minor": 4
}
