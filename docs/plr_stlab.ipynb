{
 "cells": [
  {
   "cell_type": "markdown",
   "metadata": {},
   "source": [
    "PLR with STLAB\n",
    "==============\n",
    "\n",
    "Automated pupillometers are the standard instruments for measuring the PLR. These handheld devices are aimed at a persons eye to deliver a light stimulus and use infrared video recording and internal algorithms to provide an instant readout of the PLR and its associated parameters. The [NeurOptics PLR-3000](https://neuroptics.com/plr-3000-hand-held/) is one such device. \n",
    "\n",
    "<img src=\"../img/plr3000.png\" width=\"200\"/> \n",
    "\n",
    "Our integrating sphere can't compete with an automated pupillometer in terms portability and ease of use, but it can function in the same way. This protocol shows how we can do this.\n"
   ]
  },
  {
   "cell_type": "code",
   "execution_count": 4,
   "metadata": {},
   "outputs": [],
   "source": [
    "import pandas as pd\n",
    "plr_3000 = pd.read_csv('../data/PLR-3000_spectra.csv', index_col='uW') "
   ]
  },
  {
   "cell_type": "code",
   "execution_count": 3,
   "metadata": {},
   "outputs": [
    {
     "name": "stdout",
     "output_type": "stream",
     "text": [
      "STLAB device setup complete...\n"
     ]
    },
    {
     "ename": "TypeError",
     "evalue": "load_video_file() missing 1 required positional argument: 'fname'",
     "output_type": "error",
     "traceback": [
      "\u001b[1;31m---------------------------------------------------------------------------\u001b[0m",
      "\u001b[1;31mTypeError\u001b[0m                                 Traceback (most recent call last)",
      "\u001b[1;32m<ipython-input-3-bf1ad2409f10>\u001b[0m in \u001b[0;36m<module>\u001b[1;34m\u001b[0m\n\u001b[0;32m     22\u001b[0m \u001b[1;31m# Set up STLAB\u001b[0m\u001b[1;33m\u001b[0m\u001b[1;33m\u001b[0m\u001b[1;33m\u001b[0m\u001b[0m\n\u001b[0;32m     23\u001b[0m \u001b[0md\u001b[0m \u001b[1;33m=\u001b[0m \u001b[0mSpectraTuneLab\u001b[0m\u001b[1;33m(\u001b[0m\u001b[0mpassword\u001b[0m\u001b[1;33m=\u001b[0m\u001b[1;34m'83e47941d9e930f6'\u001b[0m\u001b[1;33m)\u001b[0m\u001b[1;33m\u001b[0m\u001b[1;33m\u001b[0m\u001b[0m\n\u001b[1;32m---> 24\u001b[1;33m \u001b[0md\u001b[0m\u001b[1;33m.\u001b[0m\u001b[0mload_video_file\u001b[0m\u001b[1;33m(\u001b[0m\u001b[1;33m)\u001b[0m\u001b[1;33m\u001b[0m\u001b[1;33m\u001b[0m\u001b[0m\n\u001b[0m\u001b[0;32m     25\u001b[0m \u001b[1;33m\u001b[0m\u001b[0m\n\u001b[0;32m     26\u001b[0m \u001b[1;31m# Annotation to be sent when the light comes on\u001b[0m\u001b[1;33m\u001b[0m\u001b[1;33m\u001b[0m\u001b[1;33m\u001b[0m\u001b[0m\n",
      "\u001b[1;31mTypeError\u001b[0m: load_video_file() missing 1 required positional argument: 'fname'"
     ]
    }
   ],
   "source": [
    "import sys\n",
    "sys.path.insert(0, '../')\n",
    "from time import sleep\n",
    "\n",
    "import numpy as np\n",
    "\n",
    "from pyplr.pupil import PupilCore\n",
    "from pyplr.stlab import SpectraTuneLab\n",
    "from pyplr.utils import unpack_data_pandas\n",
    "from pyplr.preproc import butterworth_series\n",
    "from pyplr.plr import plr_parameters, plot_plr\n",
    "\n",
    "# Some constants\n",
    "SAMPLE_RATE = 120\n",
    "BASELINE = 2\n",
    "DURATION = 6\n",
    "ONSET = BASELINE*SAMPLE_RATE\n",
    "\n",
    "# Set up pupil core\n",
    "p = PupilCore()\n",
    "\n",
    "# Set up STLAB\n",
    "d = SpectraTuneLab(password='83e47941d9e930f6')\n",
    "d.load_video_file()\n",
    "\n",
    "# Annotation to be sent when the light comes on\n",
    "annotation = p.new_annotation('LIGHT_ON')\n",
    "    \n",
    "# Start LightStamper and PupilGrabber\n",
    "lst_future = p.light_stamper(\n",
    "    annotation, \n",
    "    threshold=15, \n",
    "    timeout=DURATION)\n",
    "pgr_future = p.pupil_grabber(\n",
    "    topic='pupil.1.3d', \n",
    "    seconds=BASELINE+DURATION+2)\n",
    "    \n",
    "# Wait a few seconds...\n",
    "sleep(BASELINE)\n",
    "\n",
    "# Present stimulus\n",
    "d.play_video_file()\n",
    "\n",
    "while lst_future.running() or pgr_future.running():\n",
    "    print('Waiting for futures...')\n",
    "    sleep(1)\n",
    "\n",
    "# Retrieve and process pupil data\n",
    "data = unpack_data_pandas(pgr_future.result())\n",
    "data = butterworth_series(\n",
    "    data, \n",
    "    filt_order=3, \n",
    "    cutoff_freq=4/(SAMPLE_RATE/2), \n",
    "    fields=['diameter_3d'])\n",
    "\n",
    "# Light_stamper timestamp\n",
    "ts = lst_future.result()[1]\n",
    "\n",
    "# Find the closest timestamp in the pupil data\n",
    "idx = (np.abs(ts - data.index)).argmin()\n",
    "\n",
    "# Trim and plot\n",
    "start = idx-BASELINE*SAMPLE_RATE\n",
    "end = idx+DURATION*SAMPLE_RATE\n",
    "data = data.iloc[start:end]\n",
    "data.reset_index(inplace=True)\n",
    "ax = data['diameter_3d'].plot()\n",
    "ax.axvline(x=ONSET, color='r')\n",
    "ax.set_xticks(range(0,len(data), SAMPLE_RATE+1))\n",
    "ax.set_xticklabels(range(-BASELINE,DURATION))\n",
    "ax.set_ylabel('Pupil size (mm)')\n",
    "ax.set_xlabel('Time relative to onset (s)')"
   ]
  },
  {
   "cell_type": "code",
   "execution_count": null,
   "metadata": {},
   "outputs": [],
   "source": []
  }
 ],
 "metadata": {
  "kernelspec": {
   "display_name": "Python 3",
   "language": "python",
   "name": "python3"
  },
  "language_info": {
   "codemirror_mode": {
    "name": "ipython",
    "version": 3
   },
   "file_extension": ".py",
   "mimetype": "text/x-python",
   "name": "python",
   "nbconvert_exporter": "python",
   "pygments_lexer": "ipython3",
   "version": "3.7.7"
  }
 },
 "nbformat": 4,
 "nbformat_minor": 4
}
