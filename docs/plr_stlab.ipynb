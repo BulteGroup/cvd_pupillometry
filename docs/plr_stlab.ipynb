{
 "cells": [
  {
   "cell_type": "markdown",
   "metadata": {},
   "source": [
    "Automated pupillometer\n",
    "======================\n",
    "\n",
    "Automated pupillometers are compact, hand-held devices which, after being aimed at the eye to deliver a light stimulus, provide an instananeous readout of the PLR and its parameters. This example shows how *PyPlr* can be used to mimic the behaviour of an automated pupillometer.\n"
   ]
  },
  {
   "cell_type": "code",
   "execution_count": null,
   "metadata": {},
   "outputs": [],
   "source": []
  }
 ],
 "metadata": {
  "kernelspec": {
   "display_name": "Python 3",
   "language": "python",
   "name": "python3"
  },
  "language_info": {
   "codemirror_mode": {
    "name": "ipython",
    "version": 3
   },
   "file_extension": ".py",
   "mimetype": "text/x-python",
   "name": "python",
   "nbconvert_exporter": "python",
   "pygments_lexer": "ipython3",
   "version": "3.7.7"
  }
 },
 "nbformat": 4,
 "nbformat_minor": 4
}
