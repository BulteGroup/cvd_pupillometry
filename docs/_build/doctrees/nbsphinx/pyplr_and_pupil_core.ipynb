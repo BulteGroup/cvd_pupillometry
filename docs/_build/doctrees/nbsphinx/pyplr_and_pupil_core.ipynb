{
 "cells": [
  {
   "cell_type": "markdown",
   "metadata": {},
   "source": [
    "*PyPlr* and Pupil Core\n",
    "==========================\n",
    "*PyPlr* was developed against [Pupil Core](https://pupil-labs.com/products/core/)—an affordable, open-source, versatile, ..., research-grade eye tracking ecosystem with high sampling rates, precise model-based 3D estimation of pupil size, and many other features which make it well-suited to our application (see [Kassner et al., 2014](https://arxiv.org/abs/1405.0006), for a detailed overview of the system). In particular, real-time data streaming with the forward facing World Camera allows us to timestamp the onset of light stimuli with good temporal accuracy, which opens the door to integration with virtually any light source given a suitable geometry.\n",
    "\n",
    "The best place to start learning more about Pupil Core is on the [Pupil Labs website](https://docs.pupil-labs.com/core/), but the features most relevant to *PyPlr* are:\n",
    "\n",
    "* [Pupil Capture](https://docs.pupil-labs.com/core/software/pupil-capture/#world-window)—Software to interface with a Pupil Core headset.\n",
    "* [Pupil Player](https://docs.pupil-labs.com/core/software/pupil-player/#load-a-recording)—Software for visualising and exporting data.\n",
    "* [Pupil Core Network API](https://docs.pupil-labs.com/developer/core/network-api/)—Fast and reliable real-time communication and data streaming with [ZeroMQ](https://zeromq.org/) (an open source universal messaging library) and [MessagePack](https://msgpack.org/index.html) (a binary format for computer data interchange).\n",
    "\n",
    "*PyPlr*'s `pupil.py` module\n",
    "---------------------------\n",
    "*PyPlr* has a module called *pupil.py* which facilitates working with the Pupil Core Network API by wrapping all of the tricky ZeroMQ and MessagePack stuff into a device class called `PupilCore()`. This class has a `.command(...)` method which gives convenient access to all of the commands available via [Pupil Remote](https://docs.pupil-labs.com/developer/core/network-api/#pupil-remote). With Pupil Capture already running, it is easy to make a short recording:"
   ]
  },
  {
   "cell_type": "code",
   "execution_count": 2,
   "metadata": {},
   "outputs": [],
   "source": [
    "import sys\n",
    "sys.path.insert(0, '../')"
   ]
  },
  {
   "cell_type": "code",
   "execution_count": 3,
   "metadata": {},
   "outputs": [
    {
     "data": {
      "text/plain": [
       "'OK'"
      ]
     },
     "execution_count": 3,
     "metadata": {},
     "output_type": "execute_result"
    }
   ],
   "source": [
    "from time import sleep\n",
    "from pyplr.pupil import PupilCore\n",
    "\n",
    "p = PupilCore()\n",
    "p.command('R our_recording')\n",
    "sleep(10)\n",
    "p.command('r')"
   ]
  },
  {
   "cell_type": "markdown",
   "metadata": {},
   "source": [
    "Annotations and notifications\n",
    "-----------------------------\n",
    "To extract experimental events and calculate time-critical PLR parameters (e.g., constriction latency, time-to-peak constriction) we need a reliable indication in the pupil data of the time at which a light stimulus was actually administered. The Pupil Labs [Annotation Capture](https://docs.pupil-labs.com/core/software/pupil-capture/#annotations) plugin helps us with this. The plugin allows timestamps to be marked with a label, which is basically the same as sending a 'trigger', 'message', or 'event marker'. Annotations can be made programmatically with `PupilCore().new_annotation(...)` and sent using `PupilCore().send_annotation(...)`. It's important to make sure that the Annotation Capture plugin has been enabled, otherwise the annotations won't be captured. You can do this manually in the Pupil Capture GUI or programmatically by sending a [notification message](https://docs.pupil-labs.com/developer/core/network-api/#notification-message), which is a special kind of message that the Pupil software uses to coordinate all activities. The following example shows how to enable the Annotation Capture plugin with a notification and then sends an annotation with the label `'my_event'` halfway through a 10 second recording:"
   ]
  },
  {
   "cell_type": "code",
   "execution_count": 12,
   "metadata": {},
   "outputs": [
    {
     "data": {
      "text/plain": [
       "'OK'"
      ]
     },
     "execution_count": 12,
     "metadata": {},
     "output_type": "execute_result"
    }
   ],
   "source": [
    "from pyplr.pupil import new_annotation\n",
    "\n",
    "p = PupilCore()\n",
    "p.notify({'subject': 'start_plugin',\n",
    "          'name': 'Annotation_Capture',\n",
    "          'args': {}\n",
    "          }) \n",
    "p.command('R our_recording')\n",
    "sleep(5.)\n",
    "annotation = p.new_annotation(label='my_event',\n",
    "                              custom_fields={'whatever':'info',\n",
    "                                             'you':'want'})\n",
    "p.send_annotation(annotation)\n",
    "sleep(5.)\n",
    "p.command('r')"
   ]
  },
  {
   "cell_type": "markdown",
   "metadata": {},
   "source": [
    "Once the recording is finished, we can open it with Pupil Player and use the [Annotation Player](https://docs.pupil-labs.com/core/software/pupil-player/#annotation-export) plugin to view and export the annotations to CSV format. Any custom labels assigned to the annotation will be included as a column in the exported CSV file. By default, the timestamp of an annotation made with the `.new_annotation(...)` method will be the current Pupil time at the time of creation (corrected for transmission delay), but this can be overridden at a later point if desired. \n",
    "\n",
    "As for notifications, they can be used for all kinds of things, but there is no single exhaustive document. The best way to find out what options you can manipulate with a notification is to open [the codebase](https://github.com/pupil-labs/pupil) and search for `.notify_all(` and `def on_notify(`. "
   ]
  },
  {
   "cell_type": "markdown",
   "metadata": {},
   "source": [
    "Getting pupil data in real-time\n",
    "-------------------------------\n",
    "The Pupil Capture software continuously generates pupil data with the camera frames it receives from a Pupil Core headset and makes them available via the [IPC backbone](https://docs.pupil-labs.com/developer/core/network-api/#reading-from-the-ipc-backbone). `PupilCore()` has a `.pupil_grabber(...)` method which simplifies access to these data. Just specify the topic of interest and how long you want to spend grabbing data:"
   ]
  },
  {
   "cell_type": "code",
   "execution_count": 58,
   "metadata": {},
   "outputs": [
    {
     "name": "stdout",
     "output_type": "stream",
     "text": [
      "Grabbing 10 seconds of pupil.1.3d\n",
      "PupilGrabber done grabbing 10 seconds of pupil.1.3d\n"
     ]
    }
   ],
   "source": [
    "p = PupilCore()\n",
    "future = p.pupil_grabber(topic='pupil.1.3d', seconds=10)"
   ]
  },
  {
   "cell_type": "markdown",
   "metadata": {},
   "source": [
    "Crucially, `.pupil_grabber(...)` does its work in a thread using Python's `concurrent.futures` framework, returning a `Future` object that grants access to the data once the thread has concluded:"
   ]
  },
  {
   "cell_type": "code",
   "execution_count": 63,
   "metadata": {},
   "outputs": [
    {
     "data": {
      "text/plain": [
       "{'id': 1,\n",
       " 'topic': 'pupil.1.3d',\n",
       " 'method': 'pye3d 0.0.4 real-time',\n",
       " 'norm_pos': [0.5655694294190798, 0.51342567952097],\n",
       " 'diameter': 23.99705423825568,\n",
       " 'confidence': 1.0,\n",
       " 'timestamp': 680912.412263,\n",
       " 'sphere': {'center': [9.598701857495012,\n",
       "   3.0952797661161284,\n",
       "   48.33511012600127],\n",
       "  'radius': 10.392304845413264},\n",
       " 'projected_sphere': {'center': [152.30855744470296, 114.17403946238872],\n",
       "  'axes': [145.18160935143484, 145.18160935143484],\n",
       "  'angle': 0.0},\n",
       " 'circle_3d': {'center': [2.1432373874528103,\n",
       "   -0.12500974739534687,\n",
       "   41.850838001459735],\n",
       "  'normal': [-0.7174024031187592, -0.3098725029157299, -0.6239493761004736],\n",
       "  'radius': 1.555966130450642},\n",
       " 'diameter_3d': 2.801000186781173,\n",
       " 'ellipse': {'center': [108.58933044846333, 93.42226953197378],\n",
       "  'axes': [17.461405955457835, 23.99705423825568],\n",
       "  'angle': 24.7916119699982},\n",
       " 'location': [108.58933044846333, 93.42226953197378],\n",
       " 'model_confidence': 1.0,\n",
       " 'theta': 1.885855258683357,\n",
       " 'phi': -2.425752871347941}"
      ]
     },
     "execution_count": 63,
     "metadata": {},
     "output_type": "execute_result"
    }
   ],
   "source": [
    "data = future.result()\n",
    "data[0]"
   ]
  },
  {
   "cell_type": "markdown",
   "metadata": {},
   "source": [
    "The data is returned as a list of dictionaries, with each dictionary representing a single [data point](https://docs.pupil-labs.com/developer/core/overview/#timing-data-conventions). With a simple helper function we can organise the whole lot and inspect the pupil timecourse:"
   ]
  },
  {
   "cell_type": "code",
   "execution_count": 67,
   "metadata": {},
   "outputs": [
    {
     "data": {
      "image/png": "[encoded data removed]",
      "text/plain": [
       "<Figure size 1008x288 with 1 Axes>"
      ]
     },
     "metadata": {
      "needs_background": "light"
     },
     "output_type": "display_data"
    }
   ],
   "source": [
    "import pandas as pd\n",
    "import matplotlib.pyplot as plt\n",
    "\n",
    "def unpack_data_pandas(data):\n",
    "    return (pd.DataFrame(data)\n",
    "              .set_index('timestamp')) \n",
    "\n",
    "data = unpack_data_pandas(data)\n",
    "ax = data['diameter_3d'].plot(figsize=(14,4))\n",
    "ax.set_ylabel('Pupil diameter (mm)')\n",
    "ax.set_xlabel('Pupil timestamp (mm)')"
   ]
  },
  {
   "cell_type": "markdown",
   "metadata": {},
   "source": [
    "Timestamping a light stimulus\n",
    "-----------------------------\n",
    "The simplest way to timestamp a light stimulus would be to control the light source programatically and send an annotation as close as possible to when we change the status of the light:"
   ]
  },
  {
   "cell_type": "markdown",
   "metadata": {},
   "source": [
    "```Python\n",
    "p = PupilCore()\n",
    "p.command('R')\n",
    "sleep(5.)\n",
    "annotation = p.new_annotation('LIGHT_ON')\n",
    "p.send_annotation(annotation)\n",
    "my_light.on() # turn hypothetical light source on\n",
    "sleep(1.)\n",
    "my_light.off() # now turn it off\n",
    "sleep(5.)\n",
    "p.command('r')\n",
    "```"
   ]
  },
  {
   "cell_type": "markdown",
   "metadata": {},
   "source": [
    "But in reality this will be problematic as the light source will have a latency of its own, which is difficult to reference. In fact, our light source takes commands via generic HTTP requests and has a variable response time on the order of a few hundred miliseconds. Given that we may want to calculate pupil constriction latency to a light stimulus, which is typically around 200-300 ms, this variable latency is unacceptable.\n",
    "\n",
    "To solve the issue and to make it easy to integrate *PyPlr* and Pupil Core with any light source, we developed a method called `.light_stamper(...)`. This method uses real-time data from the forward facing World Camera to timestamp light onsets with a level of accuracy that is limited only by the Pupil software's ability to synchronise the eye and world camera frames."
   ]
  },
  {
   "cell_type": "code",
   "execution_count": 5,
   "metadata": {},
   "outputs": [
    {
     "name": "stdout",
     "output_type": "stream",
     "text": [
      "Waiting for a light to stamp...\n",
      "Light stamped on frame.world at 678425.8230890001\n"
     ]
    },
    {
     "data": {
      "text/plain": [
       "(True, 678425.8230890001)"
      ]
     },
     "execution_count": 5,
     "metadata": {},
     "output_type": "execute_result"
    }
   ],
   "source": [
    "p = PupilCore()\n",
    "p.notify({'subject': 'start_plugin',\n",
    "          'name': 'Annotation_Capture',\n",
    "          'args': {}\n",
    "         })\n",
    "p.notify({'subject':'frame_publishing.set_format',\n",
    "          'format':'bgr'})\n",
    "p.command('R our_recording')\n",
    "sleep(5.)\n",
    "annotation = new_annotation(label='LIGHT_ON')\n",
    "timeout = 10\n",
    "lst_future = p.lightstamper(annotation=annotation,\n",
    "                            threshold=15,\n",
    "                            timeout=timeout,\n",
    "                            subscription='frame.world')\n",
    "sleep(timeout)\n",
    "p.command('r')\n",
    "print(lst_future.result())"
   ]
  },
  {
   "cell_type": "markdown",
   "metadata": {},
   "source": [
    "Like `.pupil_grabber(...)`, this method runs in its own thread using the `concurrent.futures` framework. The underlying algorithm simply grabs frames from the World Camera and sends an annotation with the timestamp linked to the first frame where the increase in luminance exceeds a given threshold. To work properly, the `.light_stamper(...)` requires a suitable stimulus geometry, an appropriately tuned threshold value, and the following settings in Pupil Capture:\n",
    "\n",
    "* **Auto Exposure Mode** of the relevant camera must to be set to **Manual** \n",
    "* **Frame Publisher Format** must be set to **BGR**.\n",
    "\n",
    "In our testing, `.light_stamper(...)` flawlessy captures the first frame where a light becomes visible, as verified using Pupil Player and the Annotation Player plugin. Accuracy therefore depends on how well the Pupil Labs software is able to synchronise frames from eye and world cameras. Our light source has an LED channel with enough near infrared light that it can be detected by both eye and world cameras, so we were able to test this. Results..."
   ]
  },
  {
   "cell_type": "code",
   "execution_count": null,
   "metadata": {},
   "outputs": [],
   "source": []
  }
 ],
 "metadata": {
  "kernelspec": {
   "display_name": "Python 3",
   "language": "python",
   "name": "python3"
  },
  "language_info": {
   "codemirror_mode": {
    "name": "ipython",
    "version": 3
   },
   "file_extension": ".py",
   "mimetype": "text/x-python",
   "name": "python",
   "nbconvert_exporter": "python",
   "pygments_lexer": "ipython3",
   "version": "3.7.9"
  }
 },
 "nbformat": 4,
 "nbformat_minor": 4
}
