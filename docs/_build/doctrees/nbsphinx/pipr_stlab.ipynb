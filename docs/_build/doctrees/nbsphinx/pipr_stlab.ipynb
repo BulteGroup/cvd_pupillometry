{
 "cells": [
  {
   "cell_type": "markdown",
   "metadata": {},
   "source": [
    "PIPR with STLAB\n",
    "===============\n",
    "\n",
    "The post-illumination pupil response (PIPR) is the sustained constriction of the pupil following exposure to short wavelength blue light. In addition to the classical rod and cone photoreceptors, the retina also contains *intrinsically photosensetive retinal ganglion cells (ipRGCs)* expressing a photopigment called the photopigment melanopsin, which is maximally sensetive to short wavelength (blue) light. The ipRGCs project to the suprachiasmatic neucleus and the olivary pretectal nucleus and are involved in 'non-visual' functions, such as circadian photoentrainment and pupil control. The post illumination pupil response is usually characterised by comparing pupil responses to short- and long-wavelength lights. It is assumed to be a unique non-invasive signature of melanopsin processing in the human retina."
   ]
  },
  {
   "cell_type": "markdown",
   "metadata": {},
   "source": [
    "Preparing stimuli\n",
    "-----------------\n",
    "\n",
    "For this protocol, the goal is to create two light pulses that are matched for overall radiance but differentially excite melanopsin. As an optimum protocol for exploring melanopsin function, [Park et al. (2011)](https://www.ncbi.nlm.nih.gov/pmc/articles/PMC3175993/) recommend comparing the pupil responses to high intensity (~400 lx) 1 s pulses of short and long wavelength light presented in darkness following a period of dark adaptation. So we can start by creating a blue light stimulus that is safe and which will produce the desired effects. To do this, we can create a `CalibrationContext(...)` from our spectrometer data we acquired."
   ]
  },
  {
   "cell_type": "code",
   "execution_count": 52,
   "metadata": {},
   "outputs": [
    {
     "data": {
      "text/plain": [
       "Text(0, 0.5, 'W/m2/nm')"
      ]
     },
     "execution_count": 52,
     "metadata": {},
     "output_type": "execute_result"
    },
    {
     "data": {
      "image/png": "[encoded data removed]",
      "text/plain": [
       "<Figure size 432x288 with 2 Axes>"
      ]
     },
     "metadata": {
      "needs_background": "light"
     },
     "output_type": "display_data"
    }
   ],
   "source": [
    "import sys\n",
    "sys.path.insert(0, '../')\n",
    "from pyplr.stlab import CalibrationContext\n",
    "import matplotlib.pyplot as plt\n",
    "from pyplr.CIE import get_CIES026\n",
    "\n",
    "cc = CalibrationContext('../data/corrected_oo_spectra.csv', binwidth=1)\n",
    "\n",
    "blue_intensity = (cc.lux.loc[3].sub(400)\n",
    "                               .abs()\n",
    "                               .idxmin()\n",
    "                               .values[0])\n",
    "red_intensity = cc.match(match_led=3, \n",
    "                         match_led_intensity=blue_intensity, \n",
    "                         target_led=9, \n",
    "                         match_type='irrad')[1]\n",
    "\n",
    "\n",
    "fig, ax = plt.subplots()\n",
    "sss = get_CIES026(asdf=True, binwidth=1)\n",
    "ax.plot(cc.lkp.loc[(3,blue_intensity)], c='blue')\n",
    "ax.plot(cc.lkp.loc[(9,red_intensity)], c='red')\n",
    "    \n",
    "ax2 = ax.twinx()\n",
    "ax2.plot(sss[\"Mel\"], ls='dashed', c='steelblue')\n",
    "ax2.set_ylabel('Melanopsin spectral sensitivity', c='steelblue')\n",
    "ax.set_xlabel('Wavelength (nm)')\n",
    "ax.set_ylabel('W/m2/nm');"
   ]
  },
  {
   "cell_type": "markdown",
   "metadata": {},
   "source": [
    "All that remains is to turn them into video files for the STLAB:"
   ]
  },
  {
   "cell_type": "code",
   "execution_count": 57,
   "metadata": {},
   "outputs": [
    {
     "name": "stdout",
     "output_type": "stream",
     "text": [
      "\"1s_blue.dsf\" saved in the current working directory.\n",
      "\"1s_red.dsf\" saved in the current working directory.\n"
     ]
    }
   ],
   "source": [
    "from pyplr import stlab\n",
    "blue = [0, 0, 0, blue_intensity, 0, 0, 0, 0, 0, 0]\n",
    "red  = [0, 0, 0, 0, 0, 0, 0, 0, 0, red_intensity]\n",
    "stlab.pulse_protocol(pulse_spec=blue,\n",
    "                     pulse_duration=1000, \n",
    "                     fname='1s_blue',\n",
    "                     metadata={'color':'blue'})\n",
    "stlab.pulse_protocol(pulse_spec=red, \n",
    "                     pulse_duration=1000, \n",
    "                     fname='1s_red',\n",
    "                     metadata={'color':'red'})"
   ]
  },
  {
   "cell_type": "markdown",
   "metadata": {},
   "source": [
    "Running the experiment\n",
    "----------------------\n",
    "\n",
    "After a period of dark adaptation, we can run the experiment."
   ]
  },
  {
   "cell_type": "code",
   "execution_count": null,
   "metadata": {},
   "outputs": [],
   "source": [
    "# connect to Pupil Core\n",
    "p = PupilCore()\n",
    "\n",
    "# connect to stlab\n",
    "d = SpectraTuneLab(username='admin', identity=1, password='83e47941d9e930f6')\n",
    "\n",
    "# start recording\n",
    "p.command('R {}'.format(os.getcwd()))\n",
    "\n",
    "# wait for the 3d model to build up enough samples\n",
    "sleep(10.)  \n",
    "\n",
    "# loop over the list of stims\n",
    "for stim in stims:\n",
    "    \n",
    "    # load video file and create trigger with metadata\n",
    "    vf = d.load_video_file(stim)\n",
    "    trigger = {**new_trigger('LIGHT_ON'), **vf['metadata']}\n",
    "    \n",
    "    # baseline\n",
    "    sleep(10.)\n",
    "    \n",
    "    # set up and start the LightStamper thread \n",
    "    lst_future = pupil.light_stamper(p, threshold=15, annotation=annotation, timeout=6)\n",
    "    \n",
    "    # wait 200 ms\n",
    "    sleep(.2)\n",
    "    \n",
    "    # play the video file\n",
    "    d.play_video_file()\n",
    "    sleep(60.)  \n",
    "\n",
    "# finish recording\n",
    "sleep(5.)   \n",
    "p.command('r')"
   ]
  }
 ],
 "metadata": {
  "kernelspec": {
   "display_name": "Python 3",
   "language": "python",
   "name": "python3"
  },
  "language_info": {
   "codemirror_mode": {
    "name": "ipython",
    "version": 3
   },
   "file_extension": ".py",
   "mimetype": "text/x-python",
   "name": "python",
   "nbconvert_exporter": "python",
   "pygments_lexer": "ipython3",
   "version": "3.7.7"
  }
 },
 "nbformat": 4,
 "nbformat_minor": 4
}
