{
 "cells": [
  {
   "cell_type": "markdown",
   "metadata": {},
   "source": [
    "Integrating sphere\n",
    "==================\n",
    "For basic experiments it may be sufficient to use a standard computer monitor to administer stimuli, but where research calls for advanced control over the geometry of retinal stimulation, a bespoke setup is required. Our solution was to make a low-cost integrating sphere to provide a full-field, 'Ganzfeld', stimulus.\n",
    "\n",
    "The sphere was constructed from two 45-cm diameter flanged acrylic half-domes, each coated on the inside with [Avian-B white reflectance coating](https://aviantechnologies.com/product/avian-b-white-reflectance-coating/) to scatter light homogenously. A 28 cm opening in one of the domes serves as a viewing port and an additional 7 cm (subtending ~9 degrees from the plane of the viewing port) opening opposite the viewing port was included to allow for secondary stimuli (e.g., a fixation target) or to allow for exclusion of the foveal macular pigment from stimulation. On the same half of the sphere as the viewing port, a 30 mm entry port for the light source was cut at an angle of 22.5-deg from the top, such that it could not be seen directly when looking straight ahead. The sphere was housed on a stabilised wooden fixing plate. \n",
    "\n",
    "When fully assembled, our setup looks like this:"
   ]
  },
  {
   "cell_type": "markdown",
   "metadata": {},
   "source": [
    "<img src=\"../img/setup.JPG\" alt=\"Integrating sphere\" title=\"Integrating sphere\" width=\"500\" height=\"100\" />"
   ]
  }
 ],
 "metadata": {
  "kernelspec": {
   "display_name": "Python 3",
   "language": "python",
   "name": "python3"
  },
  "language_info": {
   "codemirror_mode": {
    "name": "ipython",
    "version": 3
   },
   "file_extension": ".py",
   "mimetype": "text/x-python",
   "name": "python",
   "nbconvert_exporter": "python",
   "pygments_lexer": "ipython3",
   "version": "3.7.7"
  }
 },
 "nbformat": 4,
 "nbformat_minor": 4
}
