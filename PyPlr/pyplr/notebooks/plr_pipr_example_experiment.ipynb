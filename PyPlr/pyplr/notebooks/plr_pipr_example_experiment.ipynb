{
 "cells": [
  {
   "cell_type": "markdown",
   "metadata": {},
   "source": [
    "# **Measure your PLR and PIPR!**\n",
    "This notebook will allow you to measure and visualise your **pupil light response (PLR)** and, with a bit of luck, your **post-illumination pupil response (PIPR)**, too. The PLR is the rapid constriction of the pupil that follows an increase in retinal illumination. It is a biological mechanism that serves to enhance visual acuity by regulating both the amount and the trajectory of light that strikes the retinae, and perhaps also to protect the retinal photoreceptors from damaging levels of illumination. The PIPR is the sustained constriction of the pupil that follows exposure specifically to short wavelength light. Whereas all light sensitive cells contribute to the PLR, the PIPR is mediated specifically by the **intrinsically photosensitive retinal ganlglion cells (ipRGCs)**, which express the photopigment **melanopsin**. "
   ]
  },
  {
   "cell_type": "code",
   "execution_count": 1,
   "metadata": {},
   "outputs": [],
   "source": [
    "from time import sleep\n",
    "\n",
    "import matplotlib.pyplot as plt\n",
    "import numpy as np\n",
    "\n",
    "import stlab"
   ]
  },
  {
   "cell_type": "code",
   "execution_count": 2,
   "metadata": {},
   "outputs": [
    {
     "name": "stdout",
     "output_type": "stream",
     "text": [
      "STLAB device setup complete.\n"
     ]
    }
   ],
   "source": [
    "d = stlab.Device(username='admin', identity=1, password='83e47941d9e930f6')"
   ]
  },
  {
   "cell_type": "code",
   "execution_count": null,
   "metadata": {},
   "outputs": [],
   "source": []
  },
  {
   "cell_type": "markdown",
   "metadata": {},
   "source": [
    "# Making stimuli\n",
    "Two spectra of similar power but different wavelengths. "
   ]
  },
  {
   "cell_type": "code",
   "execution_count": null,
   "metadata": {},
   "outputs": [],
   "source": [
    "blue = [0,500,500,3800,3800,500,0,0,0,0]\n",
    "stlab.make_video_pulse(blue, 2000, '2s_blue_pulse')\n",
    "red  = [0,0,0,0,0,0,0,0,4095,4095]\n",
    "stlab.make_video_pulse(red, 2000, '2s_red_pulse')"
   ]
  },
  {
   "cell_type": "code",
   "execution_count": 21,
   "metadata": {},
   "outputs": [
    {
     "name": "stdout",
     "output_type": "stream",
     "text": [
      "26627.39377779886\n",
      "26765.33036966622\n"
     ]
    },
    {
     "data": {
      "text/plain": [
       "[<matplotlib.lines.Line2D at 0x261ad462bc8>]"
      ]
     },
     "execution_count": 21,
     "metadata": {},
     "output_type": "execute_result"
    },
    {
     "data": {
      "image/png": "[encoded data removed]",
      "text/plain": [
       "<Figure size 432x288 with 2 Axes>"
      ]
     },
     "metadata": {
      "needs_background": "light"
     },
     "output_type": "display_data"
    }
   ],
   "source": [
    "wlbins = stlab.get_wlbins()\n",
    "from CIE import get_CIES026\n",
    "_ , cies = get_CIES026(asdf=True)\n",
    "\n",
    "f, ax = plt.subplots()\n",
    "for stim in [red, blue]:\n",
    "    d.spectruma(stim)\n",
    "    sleep(.5)\n",
    "    spec = d.get_spectrometer_spectrum(norm=False)\n",
    "    print(np.sum(spec))\n",
    "    ax.plot(wlbins, spec, c=stim)\n",
    "    \n",
    "d.turn_off()\n",
    "ax2 = ax.twinx()\n",
    "ax2.plot(cies[\"Mel\"])"
   ]
  },
  {
   "cell_type": "code",
   "execution_count": null,
   "metadata": {},
   "outputs": [],
   "source": []
  },
  {
   "cell_type": "code",
   "execution_count": null,
   "metadata": {},
   "outputs": [],
   "source": []
  },
  {
   "cell_type": "code",
   "execution_count": 39,
   "metadata": {},
   "outputs": [
    {
     "name": "stdout",
     "output_type": "stream",
     "text": [
      "'2sbluepulse.dsf' saved in the current working directory.\n",
      "'2sredpulse.dsf' saved in the current working directory.\n"
     ]
    }
   ],
   "source": [
    "for stim in stims:\n",
    "    name = \"2s\"+stim+\"pulse\"\n",
    "    df = stlab.make_video_pulse(duration=2000, spec=stims[stim], video_nm=name, return_df=True)"
   ]
  },
  {
   "cell_type": "markdown",
   "metadata": {},
   "source": [
    "# Running the experiment"
   ]
  },
  {
   "cell_type": "code",
   "execution_count": null,
   "metadata": {},
   "outputs": [],
   "source": [
    "# set up zmq context and remote helper for tracker\n",
    "context = zmq.Context()\n",
    "address = '127.0.0.1'  # remote ip or localhost\n",
    "request_port = '50020'  # same as in the pupil remote gui\n",
    "pupil_remote = zmq.Socket(context, zmq.REQ)\n",
    "pupil_remote.connect('tcp://{}:{}'.format(address, request_port))\n",
    "\n",
    "# Request 'SUB_PORT' for reading data\n",
    "pupil_remote.send_string('SUB_PORT')\n",
    "sub_port = pupil_remote.recv_string()\n",
    "\n",
    "# Request 'PUB_PORT' for writing data\n",
    "pupil_remote.send_string('PUB_PORT')\n",
    "pub_port = pupil_remote.recv_string()\n",
    "\n",
    "pub_socket = zmq.Socket(context, zmq.PUB)\n",
    "pub_socket.connect('tcp://{}:{}'.format(address, pub_port))\n",
    "\n",
    "pupil_remote.send_string('T {}'.format(time()))\n",
    "print(pupil_remote.recv_string())\n",
    "    \n",
    "# Config Pupil Capture\n",
    "#plh.notify(pupil_remote, {'subject':'start_plugin','name':'UVC_Source','args':{'frame_size': (640, 480),'frame_rate': 60,'name':'Pupil Cam1 ID2','exposure_mode':'manual'}})\n",
    "notify(pupil_remote, {'subject':'start_plugin', 'name':'Annotation_Capture'})\n",
    "#notify(pupil_remote, {'subject':'frame_publishing.set_format', 'format':'bgr'})\n",
    "\n",
    "# setup stlab\n",
    "d = stlab.Device(username='admin', identity=1, password='83e47941d9e930f6')\n",
    "\n",
    "label = 'LIGHT_ON'\n",
    "light_on_trigger = new_trigger(label, duration=2.)\n",
    "threshold = 15\n",
    "wait_time = 5."
   ]
  },
  {
   "cell_type": "code",
   "execution_count": null,
   "metadata": {},
   "outputs": [],
   "source": [
    "# start recording\n",
    "pupil_remote.send_string('R plr_integration_tests')\n",
    "pupil_remote.recv_string()\n",
    "\n",
    "sleep(5.)  \n",
    "\n",
    "for stim in ['2s_blue_pulse.dsf', '2s_red_pulse.dsf']*3:\n",
    "    # make subscriber to frame.world\n",
    "    subscriber = context.socket(zmq.SUB)\n",
    "    subscriber.connect('tcp://{}:{}'.format(address, sub_port))\n",
    "    subscriber.setsockopt_string(zmq.SUBSCRIBE, 'frame.world')\n",
    "    \n",
    "    # load video file and make trigger\n",
    "    d.load_video_file(stim)\n",
    "    light_on_trigger['stim'] = stim\n",
    "    sleep(5.)\n",
    "    # Running detect_light_onset in a background thread multiple times with\n",
    "    # the same subscriber creates a race condition. Either\n",
    "    # 1) only start one background thread\n",
    "    # 2) let them use their own subscribers\n",
    "    # 3) use a Lock to ensure that the same zmq message is not processed by different threads at the same time\n",
    "    t = threading.Thread(target=detect_light_onset, \n",
    "                         args=(subscriber, \n",
    "                               pub_socket, \n",
    "                               light_on_trigger, \n",
    "                               threshold,\n",
    "                               wait_time,))\n",
    "    t.start()\n",
    "    sleep(.2)\n",
    "    # play the video file\n",
    "    d.play_video_file()\n",
    "    sleep(60.)  \n",
    "    \n",
    "sleep(5.)   \n",
    "pupil_remote.send_string('r')\n",
    "pupil_remote.recv_string()"
   ]
  }
 ],
 "metadata": {
  "kernelspec": {
   "display_name": "Python 3",
   "language": "python",
   "name": "python3"
  },
  "language_info": {
   "codemirror_mode": {
    "name": "ipython",
    "version": 3
   },
   "file_extension": ".py",
   "mimetype": "text/x-python",
   "name": "python",
   "nbconvert_exporter": "python",
   "pygments_lexer": "ipython3",
   "version": "3.8.5"
  }
 },
 "nbformat": 4,
 "nbformat_minor": 4
}
