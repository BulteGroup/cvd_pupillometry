{
 "cells": [
  {
   "cell_type": "markdown",
   "metadata": {},
   "source": [
    "# **Measure your PLR and PIPR with *PyPlr*!**\n",
    "This notebook shows how to measure and visualise your **pupil light response (PLR)** and **post-illumination pupil response (PIPR)** using *PyPlr*. \n",
    "\n",
    "The PLR is the rapid constriction of the pupil that follows an increase in retinal illumination. It is a biological mechanism that serves to enhance visual acuity by regulating both the amount and the trajectory of light that strikes the retinae, and perhaps also to protect the retinal photoreceptors from damaging levels of illumination. The PIPR is the sustained constriction of the pupil that follows exposure specifically to short wavelength light. Whereas all light sensitive cells contribute to the PLR, the PIPR is mediated specifically by the **intrinsically photosensitive retinal ganlglion cells (ipRGCs)**, which express the photopigment **melanopsin**. "
   ]
  },
  {
   "cell_type": "code",
   "execution_count": 15,
   "metadata": {},
   "outputs": [],
   "source": [
    "import sys\n",
    "sys.path.insert(0, '../../')\n",
    "from time import sleep\n",
    "\n",
    "import matplotlib.pyplot as plt\n",
    "import numpy as np\n",
    "import pandas as pd\n",
    "\n",
    "from pyplr import stlab"
   ]
  },
  {
   "cell_type": "code",
   "execution_count": 2,
   "metadata": {},
   "outputs": [
    {
     "name": "stdout",
     "output_type": "stream",
     "text": [
      "STLAB device setup complete.\n"
     ]
    }
   ],
   "source": [
    "d = stlab.STLAB(username='admin', identity=1, password='83e47941d9e930f6')"
   ]
  },
  {
   "cell_type": "markdown",
   "metadata": {},
   "source": [
    "# Making stimuli\n",
    "The goal is to create two light pulses that differentially excite melanopsin, but are matched for overall radiance. We know that channel 4 has the highest melanopic irradiance and that channel 9 has virtually zero. So we can start by creating a blue light with an intensity that is comfortable enough to endure for 1s. Then we load the lookup table created from the Ocean Optics spectrometer data which predicts the output of all leds at all intensity settings. Passing this to the `stlab.led_radiance_match(...)` function we get the required intensity that channel 9 (dark red) must be in order to match channel 4 (blue) at intensity=2000. Finally, we pass these values to `stlab.pulse_protocol(...)` to generate the video files."
   ]
  },
  {
   "cell_type": "code",
   "execution_count": 3,
   "metadata": {},
   "outputs": [
    {
     "name": "stdout",
     "output_type": "stream",
     "text": [
      "\"1s_blue.dsf\" saved in the current working directory.\n",
      "\"1s_red.dsf\" saved in the current working directory.\n"
     ]
    }
   ],
   "source": [
    "blue = [0, 0, 0, 2000, 0, 0, 0, 0, 0, 0]\n",
    "lkp_tbl = pd.read_csv('../data/corrected_oo_lookup_table.csv', \n",
    "                      index_col=['led','intensity'])\n",
    "red_match = stlab.led_radiance_match(led=3, \n",
    "                                     intensity=2000, \n",
    "                                     match_led=9, \n",
    "                                     lkp_tbl=lkp_tbl)\n",
    "red  = [0, 0, 0, 0, 0, 0, 0, 0, 0, red_match[1]]\n",
    "stlab.pulse_protocol(pulse_spec=blue,\n",
    "                     pulse_duration=1000, \n",
    "                     fname='1s_blue',\n",
    "                     metadata={'color':'blue'})\n",
    "stlab.pulse_protocol(pulse_spec=red, \n",
    "                     pulse_duration=1000, \n",
    "                     fname='1s_red',\n",
    "                     metadata={'color':'red'})"
   ]
  },
  {
   "cell_type": "markdown",
   "metadata": {},
   "source": [
    "Let's visualise the stimuli with the melanopsin spectral sensitivity curve"
   ]
  },
  {
   "cell_type": "code",
   "execution_count": 29,
   "metadata": {},
   "outputs": [
    {
     "data": {
      "text/plain": [
       "[<matplotlib.lines.Line2D at 0x12d841610>]"
      ]
     },
     "execution_count": 29,
     "metadata": {},
     "output_type": "execute_result"
    },
    {
     "data": {
      "image/png": "[encoded data removed]",
      "text/plain": [
       "<Figure size 432x288 with 2 Axes>"
      ]
     },
     "metadata": {
      "needs_background": "light"
     },
     "output_type": "display_data"
    }
   ],
   "source": [
    "from pyplr.CIE import get_CIES026\n",
    "_ , cies = get_CIES026(asdf=True)\n",
    "\n",
    "f, ax = plt.subplots()\n",
    "wls = lkp_tbl.columns.to_numpy().astype('float')\n",
    "\n",
    "ax.plot(wls, lkp_tbl.loc[(4,2000)], c='blue')\n",
    "ax.plot(wls, lkp_tbl.loc[(9,red_match[1])], c='red')\n",
    "    \n",
    "ax2 = ax.twinx()\n",
    "ax2.plot(wls, cies[\"Mel\"])"
   ]
  },
  {
   "cell_type": "code",
   "execution_count": null,
   "metadata": {},
   "outputs": [],
   "source": []
  },
  {
   "cell_type": "markdown",
   "metadata": {},
   "source": [
    "# Setting up the experiment"
   ]
  },
  {
   "cell_type": "code",
   "execution_count": 31,
   "metadata": {},
   "outputs": [
    {
     "data": {
      "text/plain": [
       "['red.dsf', 'blue.dsf', 'blue.dsf', 'red.dsf', 'blue.dsf', 'red.dsf']"
      ]
     },
     "execution_count": 31,
     "metadata": {},
     "output_type": "execute_result"
    }
   ],
   "source": [
    "import random\n",
    "import os\n",
    "recdir = os.getcwd()\n",
    "\n",
    "# prepare stims\n",
    "stims = ['blue.dsf', 'red.dsf'] * 3\n",
    "random.shuffle(stims)\n",
    "stims"
   ]
  },
  {
   "cell_type": "markdown",
   "metadata": {},
   "source": [
    "# Running the experiment\n",
    "\n",
    "To see a maximal effect of melanopsin, dark adapt for 10 mins."
   ]
  },
  {
   "cell_type": "code",
   "execution_count": null,
   "metadata": {},
   "outputs": [],
   "source": [
    "# connect to Pupil Core\n",
    "p = PupilCore()\n",
    "\n",
    "# connect to stlab\n",
    "d = stlab.STLAB(username='admin', identity=1, password='83e47941d9e930f6')\n",
    "\n",
    "# start recording\n",
    "p.command('R {}'.format(os.getcwd()))\n",
    "\n",
    "# wait a few seconds so you can get in place\n",
    "sleep(5.)  \n",
    "\n",
    "# loop over the list of stims\n",
    "for stim in stims:\n",
    "    \n",
    "    # load video file and create trigger with metadata\n",
    "    vf = d.load_video_file(stim)\n",
    "    trigger = {**new_trigger('LIGHT_ON'), **vf['metadata']}\n",
    "    \n",
    "    # baseline\n",
    "    sleep(10.)\n",
    "    \n",
    "    # set up and start the LightStamper thread \n",
    "    lst = LighStamper(p, threshold=15, trigger=trigger, wait_time=6)\n",
    "    lst.start()\n",
    "    \n",
    "    # wait 200 ms\n",
    "    sleep(.2)\n",
    "    \n",
    "    # play the video file\n",
    "    d.play_video_file()\n",
    "    sleep(60.)  \n",
    "\n",
    "# finish recording\n",
    "sleep(5.)   \n",
    "p.command('r')"
   ]
  }
 ],
 "metadata": {
  "kernelspec": {
   "display_name": "Python 3",
   "language": "python",
   "name": "python3"
  },
  "language_info": {
   "codemirror_mode": {
    "name": "ipython",
    "version": 3
   },
   "file_extension": ".py",
   "mimetype": "text/x-python",
   "name": "python",
   "nbconvert_exporter": "python",
   "pygments_lexer": "ipython3",
   "version": "3.7.7"
  }
 },
 "nbformat": 4,
 "nbformat_minor": 4
}
